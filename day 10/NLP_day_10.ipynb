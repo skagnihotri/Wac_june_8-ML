{
  "nbformat": 4,
  "nbformat_minor": 0,
  "metadata": {
    "kernelspec": {
      "display_name": "Python 3",
      "language": "python",
      "name": "python3"
    },
    "language_info": {
      "codemirror_mode": {
        "name": "ipython",
        "version": 3
      },
      "file_extension": ".py",
      "mimetype": "text/x-python",
      "name": "python",
      "nbconvert_exporter": "python",
      "pygments_lexer": "ipython3",
      "version": "3.6.1"
    },
    "colab": {
      "name": "NLP day 10.ipynb",
      "provenance": [],
      "collapsed_sections": []
    },
    "accelerator": "TPU"
  },
  "cells": [
    {
      "cell_type": "markdown",
      "metadata": {
        "id": "UQP44ykL9aqT",
        "colab_type": "text"
      },
      "source": [
        "\n",
        "# Word2Vec Model\n",
        "- Word2Vec Google's Pretrained Model\n",
        "- Contains vector representations of 50 billion words\n",
        "\n",
        "- Words which are similar in context have similar vectors\n",
        "- Distance/Similarity between two words can be measured using Cosine Distance\n"
      ]
    },
    {
      "cell_type": "markdown",
      "metadata": {
        "id": "0FIJxjZF9aqU",
        "colab_type": "text"
      },
      "source": [
        "### Applications\n",
        "- Text Similarity\n",
        "- Language Translation\n",
        "- Finding Odd Words\n",
        "- Word Analogies\n"
      ]
    },
    {
      "cell_type": "markdown",
      "metadata": {
        "id": "J1uajVQu9aqU",
        "colab_type": "text"
      },
      "source": [
        "### Word Embeddings\n",
        "- Word embeddings are numerical representation of words, in the form of vectors.\n",
        "\n",
        "- Word2Vec Model represents each word as 300 Dimensional Vector\n",
        "\n",
        "- In this tutorial we are going to see how to use pre-trained word2vec model.\n",
        "- Model size is around 1.5 GB\n",
        "- We will work using Gensim, which is popular NLP Package.\n"
      ]
    },
    {
      "cell_type": "markdown",
      "metadata": {
        "id": "nMcMbYNb9aqV",
        "colab_type": "text"
      },
      "source": [
        "Gensim's Word2Vec Model provides optimum implementation of \n",
        "\n",
        "1) **CBOW** Model \n",
        "\n",
        "2) **SkipGram Model**\n",
        "\n",
        "\n",
        "Paper 1 [Efficient Estimation of Word Representations in\n",
        "Vector Space](https://arxiv.org/pdf/1301.3781.pdf)\n",
        "\n",
        "\n",
        "Paper 2 [Distributed Representations of Words and Phrases and their Compositionality\n",
        "](https://arxiv.org/abs/1310.4546)"
      ]
    },
    {
      "cell_type": "markdown",
      "metadata": {
        "id": "3PTatJHq9aqV",
        "colab_type": "text"
      },
      "source": [
        "### Word2Vec using Gensim\n",
        "`Link https://radimrehurek.com/gensim/models/word2vec.html`"
      ]
    },
    {
      "cell_type": "code",
      "metadata": {
        "id": "MYb6gmPcTAG0",
        "colab_type": "code",
        "colab": {
          "base_uri": "https://localhost:8080/",
          "height": 202
        },
        "outputId": "f46bf82f-a87a-4600-c29d-a192328dc61a"
      },
      "source": [
        "!wget -c \"https://s3.amazonaws.com/dl4j-distribution/GoogleNews-vectors-negative300.bin.gz\""
      ],
      "execution_count": null,
      "outputs": [
        {
          "output_type": "stream",
          "text": [
            "--2020-06-23 07:08:56--  https://s3.amazonaws.com/dl4j-distribution/GoogleNews-vectors-negative300.bin.gz\n",
            "Resolving s3.amazonaws.com (s3.amazonaws.com)... 52.217.38.110\n",
            "Connecting to s3.amazonaws.com (s3.amazonaws.com)|52.217.38.110|:443... connected.\n",
            "HTTP request sent, awaiting response... 200 OK\n",
            "Length: 1647046227 (1.5G) [application/x-gzip]\n",
            "Saving to: ‘GoogleNews-vectors-negative300.bin.gz’\n",
            "\n",
            "GoogleNews-vectors- 100%[===================>]   1.53G  72.0MB/s    in 21s     \n",
            "\n",
            "2020-06-23 07:09:18 (75.4 MB/s) - ‘GoogleNews-vectors-negative300.bin.gz’ saved [1647046227/1647046227]\n",
            "\n"
          ],
          "name": "stdout"
        }
      ]
    },
    {
      "cell_type": "markdown",
      "metadata": {
        "id": "vB3CGq2R9aqW",
        "colab_type": "text"
      },
      "source": [
        "# CODE ##"
      ]
    },
    {
      "cell_type": "markdown",
      "metadata": {
        "id": "4hjsK91B9aqW",
        "colab_type": "text"
      },
      "source": [
        "##### Load Word2Vec Model"
      ]
    },
    {
      "cell_type": "markdown",
      "metadata": {
        "id": "9pw657wN9aqX",
        "colab_type": "text"
      },
      "source": [
        "\n",
        "**KeyedVectors** - This object essentially contains the mapping between words and embeddings. After training, it can be used directly to query those embeddings in various ways"
      ]
    },
    {
      "cell_type": "code",
      "metadata": {
        "id": "DpDsONQn9aqX",
        "colab_type": "code",
        "colab": {}
      },
      "source": [
        "# Libraries\n",
        "import numpy as np\n",
        "import gensim\n",
        "from gensim.models import Word2Vec, KeyedVectors\n",
        "from sklearn.metrics.pairwise import cosine_similarity"
      ],
      "execution_count": null,
      "outputs": []
    },
    {
      "cell_type": "code",
      "metadata": {
        "id": "eKi3ygxU9aqc",
        "colab_type": "code",
        "colab": {
          "base_uri": "https://localhost:8080/",
          "height": 70
        },
        "outputId": "028084ee-2798-4db5-8ec7-2ec5ab2cf762"
      },
      "source": [
        "word_vector = KeyedVectors.load_word2vec_format('/content/GoogleNews-vectors-negative300.bin.gz', binary= True)"
      ],
      "execution_count": null,
      "outputs": [
        {
          "output_type": "stream",
          "text": [
            "/usr/local/lib/python3.6/dist-packages/smart_open/smart_open_lib.py:253: UserWarning: This function is deprecated, use smart_open.open instead. See the migration notes for details: https://github.com/RaRe-Technologies/smart_open/blob/master/README.rst#migrating-to-the-new-open-function\n",
            "  'See the migration notes for details: %s' % _MIGRATION_NOTES_URL\n"
          ],
          "name": "stderr"
        }
      ]
    },
    {
      "cell_type": "code",
      "metadata": {
        "id": "PZAGGCpp9aqe",
        "colab_type": "code",
        "colab": {
          "base_uri": "https://localhost:8080/",
          "height": 34
        },
        "outputId": "491a2ab4-9be3-467d-e642-ac59d0528bd3"
      },
      "source": [
        "type(word_vector)"
      ],
      "execution_count": null,
      "outputs": [
        {
          "output_type": "execute_result",
          "data": {
            "text/plain": [
              "gensim.models.keyedvectors.Word2VecKeyedVectors"
            ]
          },
          "metadata": {
            "tags": []
          },
          "execution_count": 7
        }
      ]
    },
    {
      "cell_type": "code",
      "metadata": {
        "id": "QG0JWNVwVzSb",
        "colab_type": "code",
        "colab": {
          "base_uri": "https://localhost:8080/",
          "height": 1000
        },
        "outputId": "af5722e7-1583-40c6-f2f5-4b8302279834"
      },
      "source": [
        "Apple = word_vector[\"Apple\"]\n",
        "Apple"
      ],
      "execution_count": null,
      "outputs": [
        {
          "output_type": "execute_result",
          "data": {
            "text/plain": [
              "array([-1.74804688e-01,  3.00292969e-02, -2.16796875e-01,  1.56250000e-01,\n",
              "       -3.57421875e-01, -6.05468750e-02,  1.36718750e-01,  9.57031250e-02,\n",
              "        3.17382812e-03, -4.29687500e-02, -3.30078125e-01,  2.57812500e-01,\n",
              "        2.51953125e-01, -2.77343750e-01, -6.98242188e-02, -2.95410156e-02,\n",
              "        3.22265625e-01, -7.76367188e-02, -3.06396484e-02, -1.67968750e-01,\n",
              "       -5.76171875e-02,  3.05175781e-02,  5.52368164e-03, -1.26953125e-01,\n",
              "       -1.44042969e-02,  1.75781250e-01,  9.47265625e-02,  3.16406250e-01,\n",
              "       -7.81250000e-03, -3.40270996e-03,  3.63769531e-02,  1.11816406e-01,\n",
              "       -1.24023438e-01,  1.29882812e-01, -3.22265625e-02, -1.60156250e-01,\n",
              "        7.56835938e-02,  6.73828125e-02,  4.08203125e-01,  2.23632812e-01,\n",
              "        1.60156250e-01,  3.63769531e-02, -1.64062500e-01, -3.51562500e-01,\n",
              "        4.49218750e-02,  6.34765625e-02, -1.15234375e-01,  3.12500000e-01,\n",
              "       -2.80761719e-02, -9.22851562e-02,  5.98144531e-02,  1.57470703e-02,\n",
              "       -1.15234375e-01,  2.18750000e-01, -5.78613281e-02,  2.07031250e-01,\n",
              "       -1.03515625e-01, -2.07031250e-01, -7.08007812e-02, -7.47070312e-02,\n",
              "        1.35742188e-01,  1.80664062e-01, -2.50000000e-01, -3.27148438e-02,\n",
              "       -9.76562500e-02, -7.81250000e-02,  7.32421875e-03,  2.47070312e-01,\n",
              "       -1.75781250e-01,  1.21459961e-02, -2.49023438e-01, -5.61523438e-02,\n",
              "        4.10156250e-02, -1.59179688e-01, -3.34472656e-02, -7.29370117e-03,\n",
              "       -1.11328125e-01, -2.03125000e-01,  1.00585938e-01, -1.26953125e-01,\n",
              "       -6.93359375e-02, -1.02539062e-02, -1.81640625e-01, -1.54296875e-01,\n",
              "       -7.91015625e-02, -4.08203125e-01,  3.22265625e-01,  2.91015625e-01,\n",
              "       -2.69531250e-01, -1.61132812e-01, -2.92968750e-01,  1.17675781e-01,\n",
              "       -1.64062500e-01, -1.21582031e-01,  1.26953125e-01, -3.14453125e-01,\n",
              "       -2.66113281e-02,  8.10546875e-02,  1.18652344e-01,  8.30078125e-02,\n",
              "        3.07617188e-02, -7.71484375e-02, -2.08984375e-01,  1.27929688e-01,\n",
              "        5.88378906e-02, -1.55273438e-01, -6.98242188e-02,  1.03027344e-01,\n",
              "        4.68750000e-02, -4.57031250e-01, -3.61328125e-01, -4.99725342e-04,\n",
              "        2.37304688e-01, -4.79125977e-03,  1.39648438e-01, -5.78613281e-02,\n",
              "       -2.39257812e-01, -4.35546875e-01, -8.44726562e-02,  3.44238281e-02,\n",
              "       -4.93164062e-02, -1.54296875e-01, -3.32031250e-01, -2.16796875e-01,\n",
              "        1.65039062e-01, -1.12792969e-01, -1.45507812e-01,  1.60156250e-01,\n",
              "       -3.59375000e-01,  8.10546875e-02, -1.20605469e-01, -4.46777344e-02,\n",
              "       -2.25585938e-01, -5.66406250e-02, -7.91015625e-02,  1.11694336e-02,\n",
              "        2.20947266e-02, -2.28271484e-02, -5.56640625e-02, -1.66992188e-01,\n",
              "        1.75781250e-02, -1.39648438e-01, -2.51953125e-01, -3.59375000e-01,\n",
              "        2.20703125e-01, -5.34667969e-02,  3.22265625e-01, -1.91406250e-01,\n",
              "       -5.74218750e-01, -1.58203125e-01, -5.85937500e-02, -2.17773438e-01,\n",
              "       -1.30859375e-01, -4.61425781e-02, -2.53906250e-01,  3.61328125e-02,\n",
              "       -1.58203125e-01, -1.39648438e-01, -4.71191406e-02,  2.44140625e-01,\n",
              "       -3.30078125e-01, -1.82617188e-01, -8.88671875e-02, -1.11694336e-02,\n",
              "       -9.71679688e-02, -1.52343750e-01,  3.20312500e-01,  2.14843750e-02,\n",
              "       -5.03540039e-03,  6.39648438e-02, -9.37500000e-02, -1.69921875e-01,\n",
              "       -7.91015625e-02, -1.50390625e-01, -1.73828125e-01,  1.05468750e-01,\n",
              "        2.55859375e-01, -9.61914062e-02, -2.52685547e-02, -1.06933594e-01,\n",
              "       -2.41210938e-01, -8.20312500e-02,  5.88378906e-02, -2.75390625e-01,\n",
              "        2.21679688e-01,  6.12792969e-02,  1.86767578e-02,  2.91015625e-01,\n",
              "       -8.64257812e-02, -6.93359375e-02,  1.35498047e-02,  1.76757812e-01,\n",
              "       -5.07812500e-02, -2.08984375e-01, -1.37695312e-01,  1.46484375e-01,\n",
              "       -3.10546875e-01, -2.28515625e-01, -1.54296875e-01,  3.73535156e-02,\n",
              "        9.46044922e-03, -2.43164062e-01,  1.40625000e-01,  3.02734375e-01,\n",
              "       -2.31933594e-03,  1.67968750e-01,  1.33789062e-01, -1.10839844e-01,\n",
              "       -2.50000000e-01,  2.42919922e-02,  4.93164062e-02,  1.84570312e-01,\n",
              "       -1.67236328e-02,  9.27734375e-02, -1.72851562e-01, -4.00390625e-02,\n",
              "        6.68945312e-02,  1.25000000e-01, -2.12890625e-01, -3.78906250e-01,\n",
              "       -3.65234375e-01,  3.67187500e-01,  9.03320312e-02,  2.31445312e-01,\n",
              "       -1.35742188e-01,  1.17675781e-01, -4.68750000e-02,  2.80761719e-02,\n",
              "        1.63085938e-01,  9.08203125e-02, -4.17968750e-01, -1.88476562e-01,\n",
              "       -2.29492188e-01, -3.69140625e-01,  1.41601562e-01, -1.41601562e-02,\n",
              "        1.48437500e-01, -1.83593750e-01,  1.08886719e-01,  8.00781250e-02,\n",
              "        2.38281250e-01, -1.51977539e-02, -1.61132812e-02, -4.41406250e-01,\n",
              "        4.41894531e-02, -1.80664062e-01, -1.89453125e-01, -3.44848633e-03,\n",
              "       -9.96093750e-02, -1.35742188e-01, -4.49218750e-01,  2.10937500e-01,\n",
              "        3.34472656e-02,  1.66015625e-01,  1.55273438e-01,  2.00195312e-01,\n",
              "        1.79687500e-01,  5.37109375e-02, -1.93359375e-01,  3.10546875e-01,\n",
              "        2.94921875e-01,  2.70996094e-02,  2.51464844e-02,  2.50000000e-01,\n",
              "       -5.78613281e-02,  2.08007812e-01, -3.51562500e-01, -1.26953125e-01,\n",
              "        1.02050781e-01, -2.87109375e-01,  1.17187500e-01,  1.41601562e-01,\n",
              "        7.22656250e-02, -3.36914062e-02,  2.13867188e-01, -3.54003906e-02,\n",
              "        3.12500000e-01, -1.07421875e-01, -1.29882812e-01,  2.66113281e-02,\n",
              "       -1.25976562e-01,  3.26171875e-01,  2.96630859e-02,  3.02734375e-01,\n",
              "        1.20117188e-01, -1.16210938e-01,  5.49316406e-02,  1.15356445e-02,\n",
              "        6.25000000e-02,  3.02734375e-01,  1.34765625e-01, -9.22851562e-02,\n",
              "        3.36914062e-02, -1.59179688e-01,  3.45703125e-01, -6.73828125e-02,\n",
              "       -2.44140625e-01, -1.79443359e-02, -1.06445312e-01,  2.57812500e-01],\n",
              "      dtype=float32)"
            ]
          },
          "metadata": {
            "tags": []
          },
          "execution_count": 9
        }
      ]
    },
    {
      "cell_type": "code",
      "metadata": {
        "id": "pbuWp3H39aqg",
        "colab_type": "code",
        "colab": {
          "base_uri": "https://localhost:8080/",
          "height": 34
        },
        "outputId": "391177fc-aa5b-4baa-bf44-5170ec94c705"
      },
      "source": [
        "Apple.shape"
      ],
      "execution_count": null,
      "outputs": [
        {
          "output_type": "execute_result",
          "data": {
            "text/plain": [
              "(300,)"
            ]
          },
          "metadata": {
            "tags": []
          },
          "execution_count": 10
        }
      ]
    },
    {
      "cell_type": "code",
      "metadata": {
        "id": "2Ov1TGEb9aqj",
        "colab_type": "code",
        "colab": {}
      },
      "source": [
        "apple = word_vector['apple']\n",
        "mango = word_vector['mango']\n",
        "Google = word_vector['Google']"
      ],
      "execution_count": null,
      "outputs": []
    },
    {
      "cell_type": "code",
      "metadata": {
        "id": "998UX2XgDJNd",
        "colab_type": "code",
        "colab": {
          "base_uri": "https://localhost:8080/",
          "height": 34
        },
        "outputId": "49a9790c-cc62-4751-e9ae-5cf6f0827c1c"
      },
      "source": [
        "cosine_similarity([apple], [mango])"
      ],
      "execution_count": null,
      "outputs": [
        {
          "output_type": "execute_result",
          "data": {
            "text/plain": [
              "array([[0.57518554]], dtype=float32)"
            ]
          },
          "metadata": {
            "tags": []
          },
          "execution_count": 12
        }
      ]
    },
    {
      "cell_type": "code",
      "metadata": {
        "id": "fk79LyjHDJJB",
        "colab_type": "code",
        "colab": {
          "base_uri": "https://localhost:8080/",
          "height": 34
        },
        "outputId": "2142c22e-db9c-4a92-9680-acc91d5188d7"
      },
      "source": [
        "cosine_similarity([Apple], [mango])"
      ],
      "execution_count": null,
      "outputs": [
        {
          "output_type": "execute_result",
          "data": {
            "text/plain": [
              "array([[0.11593594]], dtype=float32)"
            ]
          },
          "metadata": {
            "tags": []
          },
          "execution_count": 13
        }
      ]
    },
    {
      "cell_type": "code",
      "metadata": {
        "id": "PPJ5kRUjDJGo",
        "colab_type": "code",
        "colab": {
          "base_uri": "https://localhost:8080/",
          "height": 34
        },
        "outputId": "5127a4c3-50d5-458f-dabf-a3fcf8ff5ff0"
      },
      "source": [
        "cosine_similarity([Apple], [Google])"
      ],
      "execution_count": null,
      "outputs": [
        {
          "output_type": "execute_result",
          "data": {
            "text/plain": [
              "array([[0.56835705]], dtype=float32)"
            ]
          },
          "metadata": {
            "tags": []
          },
          "execution_count": 14
        }
      ]
    },
    {
      "cell_type": "code",
      "metadata": {
        "id": "vp5DlSg0DJC8",
        "colab_type": "code",
        "colab": {}
      },
      "source": [
        ""
      ],
      "execution_count": null,
      "outputs": []
    },
    {
      "cell_type": "markdown",
      "metadata": {
        "id": "TLBMOoSX9aqo",
        "colab_type": "text"
      },
      "source": [
        "## 1. Find the Odd One Out"
      ]
    },
    {
      "cell_type": "code",
      "metadata": {
        "id": "-skH-2A-9aqp",
        "colab_type": "code",
        "colab": {}
      },
      "source": [
        "def odd_one_out(words):\n",
        "    \"\"\"Accepts a list of words and returns the odd word\"\"\"\n",
        "    # print(words)\n",
        "    all_words_vector = [word_vector[word] for word in words]\n",
        "    # print(len(all_words_vector), all_words_vector[0].shape)\n",
        "\n",
        "    avg_vector = np.mean(all_words_vector, axis = 0) # taking mean along rows\n",
        "    # print(avg_vector.shape)\n",
        "\n",
        "    odd_word = None\n",
        "    max_sim = 10\n",
        "\n",
        "    for word in words:\n",
        "        temp_sim = cosine_similarity([avg_vector], [word_vector[word]])\n",
        "        # print(f\"{word} and avg_vector sim is ---> {temp_sim}\")\n",
        "\n",
        "        if temp_sim < max_sim:\n",
        "            max_sim = temp_sim\n",
        "            odd_word = word\n",
        "\n",
        "    return odd_word"
      ],
      "execution_count": null,
      "outputs": []
    },
    {
      "cell_type": "code",
      "metadata": {
        "id": "OQ02KewtXl6o",
        "colab_type": "code",
        "colab": {
          "base_uri": "https://localhost:8080/",
          "height": 101
        },
        "outputId": "adf8b5d0-0f52-4192-f6a8-d498ccd83785"
      },
      "source": [
        "odd_one_out([\"apple\",\"mango\",\"juice\",\"party\",\"orange\"])"
      ],
      "execution_count": null,
      "outputs": [
        {
          "output_type": "stream",
          "text": [
            "apple and avg_vector sim is ---> [[0.7806554]]\n",
            "mango and avg_vector sim is ---> [[0.7606032]]\n",
            "juice and avg_vector sim is ---> [[0.7106042]]\n",
            "party and avg_vector sim is ---> [[0.357093]]\n",
            "orange and avg_vector sim is ---> [[0.649024]]\n"
          ],
          "name": "stdout"
        }
      ]
    },
    {
      "cell_type": "code",
      "metadata": {
        "id": "LvQZBrLt9aqr",
        "colab_type": "code",
        "colab": {}
      },
      "source": [
        "input_1 = [\"apple\",\"mango\",\"juice\",\"party\",\"orange\"] \n",
        "input_2 = [\"music\",\"dance\",\"sleep\",\"dancer\",\"food\"]        \n",
        "input_3  = [\"match\",\"player\",\"football\",\"cricket\",\"dancer\"]\n",
        "input_4 = [\"india\",\"paris\",\"russia\",\"france\",\"germany\"]"
      ],
      "execution_count": null,
      "outputs": []
    },
    {
      "cell_type": "code",
      "metadata": {
        "id": "Mv3z-IY69aqt",
        "colab_type": "code",
        "colab": {
          "base_uri": "https://localhost:8080/",
          "height": 34
        },
        "outputId": "68bd05cb-73f5-4b8f-b2b8-7082986c63da"
      },
      "source": [
        "print(f\"The odd word is ===> {odd_one_out(input_1)}\")"
      ],
      "execution_count": null,
      "outputs": [
        {
          "output_type": "stream",
          "text": [
            "The odd word is ===> party\n"
          ],
          "name": "stdout"
        }
      ]
    },
    {
      "cell_type": "code",
      "metadata": {
        "id": "Isubp-Fu9aqw",
        "colab_type": "code",
        "colab": {
          "base_uri": "https://localhost:8080/",
          "height": 34
        },
        "outputId": "22847b9a-072c-4aed-aa7e-0727a83897de"
      },
      "source": [
        "print(f\"The odd word is ===> {odd_one_out(input_2)}\")"
      ],
      "execution_count": null,
      "outputs": [
        {
          "output_type": "stream",
          "text": [
            "The odd word is ===> sleep\n"
          ],
          "name": "stdout"
        }
      ]
    },
    {
      "cell_type": "code",
      "metadata": {
        "id": "HA6tJ_Et9aqy",
        "colab_type": "code",
        "colab": {
          "base_uri": "https://localhost:8080/",
          "height": 34
        },
        "outputId": "79667059-56c7-4201-c47c-249ce63f4cbe"
      },
      "source": [
        "print(f\"The odd word is ===> {odd_one_out(input_1)}\")"
      ],
      "execution_count": null,
      "outputs": [
        {
          "output_type": "stream",
          "text": [
            "The odd word is ===> party\n"
          ],
          "name": "stdout"
        }
      ]
    },
    {
      "cell_type": "code",
      "metadata": {
        "id": "Ng9yzgiv9aq1",
        "colab_type": "code",
        "colab": {
          "base_uri": "https://localhost:8080/",
          "height": 34
        },
        "outputId": "b7802ab0-4834-47ec-f9d3-3d1b1dd35e0c"
      },
      "source": [
        "print(f\"The odd word is ===> {odd_one_out(input_4)}\")"
      ],
      "execution_count": null,
      "outputs": [
        {
          "output_type": "stream",
          "text": [
            "The odd word is ===> paris\n"
          ],
          "name": "stdout"
        }
      ]
    },
    {
      "cell_type": "markdown",
      "metadata": {
        "id": "nFkA0FIk9aq3",
        "colab_type": "text"
      },
      "source": [
        "### 2. Word Analogies Task"
      ]
    },
    {
      "cell_type": "markdown",
      "metadata": {
        "id": "RnAE72io9aq3",
        "colab_type": "text"
      },
      "source": [
        "In the word analogy task, we complete the sentence \"a is to b as c is to __\". An example is 'man is to woman as king is to queen' . In detail, we are trying to find a word d, such that the associated word vectors `ea,eb,ec,ed` are related in the following manner: `eb−ea≈ed−ec`. We will measure the similarity between `eb−ea` and `ed−ec` using cosine similarity. \n",
        "\n",
        "![Word2Vec](http://jalammar.github.io/images/word2vec/word2vec.png)"
      ]
    },
    {
      "cell_type": "markdown",
      "metadata": {
        "id": "sv4XJS3aaqUB",
        "colab_type": "text"
      },
      "source": [
        "**man -> woman ::     prince -> princess**\n",
        "**italy -> italian ::     spain -> spanish**\n",
        "**india -> delhi ::     japan -> tokyo**\n",
        "**man -> woman ::     boy -> girl**\n",
        "**small -> smaller ::     large -> larger**\n",
        "\n",
        "## Try it out\n",
        "**man -> coder :: woman -> ______?**"
      ]
    },
    {
      "cell_type": "code",
      "metadata": {
        "id": "H45CIfH9aIGp",
        "colab_type": "code",
        "colab": {}
      },
      "source": [
        "word_vector.vocab.keys()"
      ],
      "execution_count": null,
      "outputs": []
    },
    {
      "cell_type": "code",
      "metadata": {
        "id": "V9vpGtyGaIDM",
        "colab_type": "code",
        "colab": {}
      },
      "source": [
        "def predict_word(a, b, c, model) :\n",
        "    \"\"\"Accepts a triad of words, a,b,c and returns d such that a is to b : c is to d\"\"\"\n",
        "    wv_a, wv_b, wv_c = model[a], model[b], model[c]\n",
        "\n",
        "    min_sim = -10\n",
        "    pred_word = None\n",
        "    words = model.vocab.keys()\n",
        "\n",
        "    for w in words:\n",
        "        if w in [a, b, c]:\n",
        "            continue\n",
        "\n",
        "        wv_w = model[w]\n",
        "        temp_sim = cosine_similarity([wv_b - wv_a], [wv_w - wv_c])\n",
        "\n",
        "        if temp_sim > min_sim:\n",
        "            min_sim = temp_sim\n",
        "            pred_word = w\n",
        "\n",
        "    return pred_word"
      ],
      "execution_count": null,
      "outputs": []
    },
    {
      "cell_type": "code",
      "metadata": {
        "id": "e0XEyIyYaIBc",
        "colab_type": "code",
        "colab": {
          "base_uri": "https://localhost:8080/"
        },
        "outputId": "7689281c-faa5-4b6a-cd6e-4c39764c0a65"
      },
      "source": [
        "a, b, c = \"man\", \"woman\", \"prince\"\n",
        "predict_word(a, b, c, word_vector)"
      ],
      "execution_count": null,
      "outputs": [
        {
          "output_type": "execute_result",
          "data": {
            "text/plain": [
              "'princess'"
            ]
          },
          "metadata": {
            "tags": []
          },
          "execution_count": 125
        }
      ]
    },
    {
      "cell_type": "code",
      "metadata": {
        "id": "LhGIF7roaH_P",
        "colab_type": "code",
        "colab": {}
      },
      "source": [
        ""
      ],
      "execution_count": null,
      "outputs": []
    },
    {
      "cell_type": "markdown",
      "metadata": {
        "id": "zX5kILTZ9arG",
        "colab_type": "text"
      },
      "source": [
        "## 3. Training Your Own Word2Vec Model"
      ]
    },
    {
      "cell_type": "markdown",
      "metadata": {
        "id": "jW5OYHuj9arH",
        "colab_type": "text"
      },
      "source": [
        "Word2Vec model can learn embeddings from any text corpus!\n",
        "- Continuous Bag of Words Model **(CBOW)**\n",
        "- Skip Gram Model\n",
        "\n",
        "`Algorithm looks at window of target word(Y) to provide context word(X), the model is trained on (X,Y) pairs in a superwised manner.` The algorithm was developed by Tomas Mikolov."
      ]
    },
    {
      "cell_type": "markdown",
      "metadata": {
        "id": "vGQ_yeiw9arH",
        "colab_type": "text"
      },
      "source": [
        "#### Data Preparation\n"
      ]
    },
    {
      "cell_type": "markdown",
      "metadata": {
        "id": "AzUQje3T9arH",
        "colab_type": "text"
      },
      "source": [
        "\n",
        "- Each sentence must be tokenized, into a list of words.\n",
        "\n",
        "- The sentences can be text loaded into memory once,\n",
        "or we can build a data pipeline which iteratively feeds data to the model.\n"
      ]
    },
    {
      "cell_type": "code",
      "metadata": {
        "id": "cCuv9q8C9arI",
        "colab_type": "code",
        "colab": {
          "base_uri": "https://localhost:8080/",
          "height": 101
        },
        "outputId": "fbf73e01-5b50-4f78-af28-1c075a9a5269"
      },
      "source": [
        "#libs\n",
        "import nltk\n",
        "from nltk.corpus import stopwords\n",
        "\n",
        "nltk.download('stopwords')\n",
        "nltk.download('punkt')"
      ],
      "execution_count": null,
      "outputs": [
        {
          "output_type": "stream",
          "text": [
            "[nltk_data] Downloading package stopwords to /root/nltk_data...\n",
            "[nltk_data]   Package stopwords is already up-to-date!\n",
            "[nltk_data] Downloading package punkt to /root/nltk_data...\n",
            "[nltk_data]   Unzipping tokenizers/punkt.zip.\n"
          ],
          "name": "stdout"
        },
        {
          "output_type": "execute_result",
          "data": {
            "text/plain": [
              "True"
            ]
          },
          "metadata": {
            "tags": []
          },
          "execution_count": 50
        }
      ]
    },
    {
      "cell_type": "code",
      "metadata": {
        "id": "TcFpaGayhVbP",
        "colab_type": "code",
        "colab": {
          "base_uri": "https://localhost:8080/",
          "height": 54
        },
        "outputId": "d9138c2a-68c6-49f2-915d-00d73f3af1ab"
      },
      "source": [
        "print(stopwords.words('english'))"
      ],
      "execution_count": null,
      "outputs": [
        {
          "output_type": "stream",
          "text": [
            "['i', 'me', 'my', 'myself', 'we', 'our', 'ours', 'ourselves', 'you', \"you're\", \"you've\", \"you'll\", \"you'd\", 'your', 'yours', 'yourself', 'yourselves', 'he', 'him', 'his', 'himself', 'she', \"she's\", 'her', 'hers', 'herself', 'it', \"it's\", 'its', 'itself', 'they', 'them', 'their', 'theirs', 'themselves', 'what', 'which', 'who', 'whom', 'this', 'that', \"that'll\", 'these', 'those', 'am', 'is', 'are', 'was', 'were', 'be', 'been', 'being', 'have', 'has', 'had', 'having', 'do', 'does', 'did', 'doing', 'a', 'an', 'the', 'and', 'but', 'if', 'or', 'because', 'as', 'until', 'while', 'of', 'at', 'by', 'for', 'with', 'about', 'against', 'between', 'into', 'through', 'during', 'before', 'after', 'above', 'below', 'to', 'from', 'up', 'down', 'in', 'out', 'on', 'off', 'over', 'under', 'again', 'further', 'then', 'once', 'here', 'there', 'when', 'where', 'why', 'how', 'all', 'any', 'both', 'each', 'few', 'more', 'most', 'other', 'some', 'such', 'no', 'nor', 'not', 'only', 'own', 'same', 'so', 'than', 'too', 'very', 's', 't', 'can', 'will', 'just', 'don', \"don't\", 'should', \"should've\", 'now', 'd', 'll', 'm', 'o', 're', 've', 'y', 'ain', 'aren', \"aren't\", 'couldn', \"couldn't\", 'didn', \"didn't\", 'doesn', \"doesn't\", 'hadn', \"hadn't\", 'hasn', \"hasn't\", 'haven', \"haven't\", 'isn', \"isn't\", 'ma', 'mightn', \"mightn't\", 'mustn', \"mustn't\", 'needn', \"needn't\", 'shan', \"shan't\", 'shouldn', \"shouldn't\", 'wasn', \"wasn't\", 'weren', \"weren't\", 'won', \"won't\", 'wouldn', \"wouldn't\"]\n"
          ],
          "name": "stdout"
        }
      ]
    },
    {
      "cell_type": "code",
      "metadata": {
        "id": "uB3uV7lb9arM",
        "colab_type": "code",
        "colab": {}
      },
      "source": [
        "## Read the file \n",
        "def readFile(file): \n",
        "    f = open(file, 'r', encoding= 'utf8')\n",
        "    text = f.read()\n",
        "\n",
        "    # print(text)\n",
        "\n",
        "    sent = nltk.sent_tokenize(text)\n",
        "    # for s in sent:\n",
        "    #     print(s)\n",
        "\n",
        "    data = []\n",
        "    for s in sent:\n",
        "        words = nltk.word_tokenize(s)\n",
        "\n",
        "        words = [w.lower() for w in words if len(w) >= 2 and w.lower() not in stopwords.words(\"english\")]\n",
        "        data.append(words)\n",
        "    \n",
        "    return data"
      ],
      "execution_count": null,
      "outputs": []
    },
    {
      "cell_type": "code",
      "metadata": {
        "id": "KgItTvUd9arN",
        "colab_type": "code",
        "colab": {
          "base_uri": "https://localhost:8080/",
          "height": 54
        },
        "outputId": "cadff6be-c387-4293-81b7-99f91fe2d096"
      },
      "source": [
        "file = '/content/bollywood_news.txt'\n",
        "text = readFile(file)\n",
        "print(text)"
      ],
      "execution_count": null,
      "outputs": [
        {
          "output_type": "stream",
          "text": [
            "[['deepika', 'padukone', 'ranveer', 'singh', 'wedding', 'one', 'biggest', 'bollywood', 'events', 'happened', '2018'], ['deepveer', 'celebrations', 'us', 'hooked', 'phones', 'waiting', 'come', 'also', 'gave', 'enough', 'reason', 'believe', 'stylish', 'two', 'couple'], ['airport', 'looks', 'reception', 'parties', 'everything', 'entire', 'timeline', 'dp', 'ranveer', 'wedding', 'style', 'file'], ['ambanis', 'deepika', 'ranveer', 'priyanka', 'nick'], ['man', 'proves', 'wedding', 'year', 'year', 'year', 'big', 'fat', 'lavish', 'extravagant', 'weddings'], ['isha', 'ambani', 'anand', 'piramal', 'deepika', 'padukone', 'ranveer', 'singh', 'priyanka', 'chopra', 'nick', 'jonas', 'kapil', 'sharma', 'ginni', 'chatrath', '2018', 'saw', 'many', 'grand', 'weddings'], ['nothing', 'beats', 'man', 'wedding', 'year', 'award', 'social', 'media'], ['wedding', 'season', 'year', 'kicked', 'deepika', 'padukone', 'ranveer', 'singh', 'flew', 'lake', 'como', 'tie', 'knot', 'two', 'days', 'november', '14', '15'], ['several', 'lavish', 'wedding', 'reception', 'parties', 'bengaluru', 'mumbai'], ['even', 'deepika', 'ranveer', \"'s\", 'wedding', 'reception', 'parties', 'continued', 'priyanka', 'chopra', 'tied', 'knot', 'american', 'singer', 'nick', 'jonas', 'jodhpur', 'december', 'yet', 'another', 'grand', 'wedding', 'spread', 'week'], ['priyanka', 'nick', 'hosted', 'reception', 'parties', 'delhi', 'december', 'mumbai', 'december', '19', '20'], ['couple', 'yet', 'host', 'another', 'reception', 'party', 'los', 'angeles'], ['time', 'priyanka', 'chopra', 'nick', 'jonas', 'could', 'move', 'wedding', 'reception', 'parties', 'mukesh', 'nita', 'ambani', \"'s\", 'daughter', 'isha', 'ambani', 'ajay', 'swati', 'piramal', \"'s\", 'son', 'anand', 'piramal', \"'s\", 'pre-wedding', 'festivities', 'took', 'udaipur'], ['december'], ['two-day', 'events', 'udaipur', 'culminated', 'performance', 'american', 'pop', 'sensation', 'beyonce'], ['soon', 'december', '12', 'isha', 'anand', 'tied', 'knot', 'antilia', 'mumbai', 'event', 'followed', 'three', 'reception', 'parties'], ['three', 'high-profile', 'weddings', 'several', 'stars', 'tied', 'knot'], ['tv', 'star', 'kapil', 'sharma', 'married', 'ginni', 'chatrath', 'ace', 'badminton', 'player', 'saina', 'nehwal', 'parupalli', 'kashyap', 'tied', 'knot', 'cricketer', 'sanju', 'samson', 'married', 'college', 'sweetheart', 'charulatha'], ['wedding', 'rizwan', 'pehelwan', 'much', 'like', 'many', 'couples', 'close-knit', 'weddings', 'year', 'probably', 'took', 'wedding', 'cake'], ['deepika', 'ranveer', 'known', 'airport', 'twinning', 'appearances', 'surprise', 'see', 'twin', 'white', 'left', 'destination', 'wedding', 'italy'], ['deepika', 'ranveer', 'two', 'wedding', 'ceremonies', 'everyone', 'knows', 'one', 'sindhi', 'konkani'], ['sindhi', 'wedding', 'seen', 'wearing', 'custom-made', 'sabyasachi', 'ensembles', 'traditional', 't.', 'gorgeous', 'silk', 'saree', 'deepika', 'ranveer', 'white', 'silk', 'kurta', 'gorgeous', 'backdrop', 'lake', 'como', 'italy', 'perfect'], ['couple', 'seen', 'sabyasachi', 'yet', 'made', 'way', 'back', 'bay', 'celebrating', 'union', 'italy'], ['love', 'two', 'wore', 'neutral', 'colours', 'added', 'pop', 'dupatta', 'waistcoat'], ['celebrations', 'began', 'bangalore', 'reception', 'deepika', 'seen', 'stunning', 'sabyasachi', 'saree', 'ranveer', 'sherwani'], ['celebrations', 'began', 'bangalore', 'reception', 'deepika', 'dressed', 'stunning', 'sabyasachi', 'saree', 'ranveer', 'sherwani'], ['ranveer', 'handcrafted', 'anti-fit', 'long', 'silk', 'jacket', 'manish', 'arora', 'signature', 'heart', 'motif', 'complete', 'leopard', 'head', 'attached', 'right', 'shoulder'], ['deepika', 'flowed', 'vibe', 'fully', 'floral', 'sabyasachi', 'saree', 'wowed', 'us'], ['deepika', 'wearing', 'gorgeous', 'chikankari', 'creation', 'abu', 'jani', 'sandeep', 'khosla', 'ranveer', 'wore', 'custom-made', 'sherwani'], ['newlywed', 'power', 'couple', 'priyanka', 'chopra', 'nick', 'jonas', 'cloud', 'nine', 'fairytale', 'wedding', 'three', 'back-to-back', 'wedding', 'receptions'], ['couple', 'tied', 'knot', 'umaid', 'bhawan', 'palace', 'jodhpur', 'december', 'private', 'wedding', 'affair'], ['since', 'world', 'ca', \"n't\", 'get', 'pictures', 'bollywood-hollywood', 'couple'], ['thought', 'got', 'wedding', 'galore', 'eyes', 'felt', 'beautiful', 'pictures', 'couple'], ['priyanka', 'nick', 'looking', 'extremely', 'gorgeous', 'pictures'], ['man', 'moment', 'nick', 'jonas', 'perfectly', 'complements', 'lady', 'love', 'priyanka', 'corners'], ['priyanka', \"'s\", 'smile', 'make', 'everybody', 'fall'], ['four', 'days', 'wedding', 'festivities', 'topped', 'three', 'receptions', 'party', 'still', 'newlyweds', 'priyanka', 'chopra', 'nick', 'jonas'], ['couple', 'tied', 'knot', 'december', 'elaborate', 'ceremonies', 'reportedly', 'host', 'big', 'bash', 'los', 'angeles', 'hollywood', 'friends'], ['according', 'reports', 'rounds', 'couple', 'allegedly', 'host', 'black-tie', 'event', 'priyanka', 'close', 'friends', 'like', 'kerry', 'washington', 'dwayne', 'johnson', 'ellen', 'degeneres', 'among', 'co-stars', 'many', 'films', 'tv', 'show', 'quantico'], ['reports', 'even', 'suggest', 'pregnant', 'duchess', 'sussex-', 'meghan', 'markle', 'also', 'received', 'invite'], ['meanwhile', 'nick', 'friends', 'music', 'industry', 'also', 'expected', 'join', 'festivities'], ['priyanka', 'chopra', 'nick', 'jonas', 'got', 'married', 'month', 'jodhpur', \"'s\", 'umaid', 'bhawan', 'palace'], ['less', 'fairytale', 'wedding'], ['dating', 'months', 'duo', 'decided', 'take', 'relationship', 'next', 'level'], ['pc', 'got', 'man', 'looking'], ['nick', 'took', 'instagram', 'story', 'express', 'amazing', 'year', 'posting', 'collage', 'pictures', 'best', 'moments', 'bollywood', 'diva', 'took', 'place', 'year'], ['adorable', 'would', 'understatement'], ['nick', 'jonas', 'priyanka', 'chopra', 'dominated', 'social', 'media', 'since', 'time', 'announced', 'relationship', 'since', 'giving', 'us', 'major', 'couple', 'goals'], ['couple', 'tied', 'knot', 'umaid', 'bhawan', 'palace', 'jodhpur', 'per', 'hindu', 'christian', 'traditions', 'raised', 'bar', 'next', 'level'], ['thought', 'seen', 'wedding', \"'s\", 'another', 'adorable', 'picture', 'nickyanka', 'fairytale', 'wedding', 'celebrations', 'wherein', 'see', 'nick', 'escorting', 'ladylove'], ['hours', 'ago', 'peecee', 'taken', 'instagram', 'share', 'picture', 'hubby', 'wherein', 'could', 'seen', 'posing', 'bollywood', 'style', 'nick', 'holding', 'wife', 'arms'], ['priyanka', 'chopra', 'nick', 'jonas', 'become', 'one', 'loved', 'couples', 'bollywood'], ['two', 'always', 'look', 'simply', 'adorable', 'together', 'latest', 'picture', 'couple', 'proof'], ['got', 'hands', 'picture', 'priyanka', 'nick', 'captured', 'candidly', 'flight', 'journey', 'together'], ['picture', 'peecee', 'seen', 'fidgeting', 'something', 'nick', 'looks'], ['dim', 'light', 'background', 'light', 'face', 'window', 'give', 'picture', 'vintage', 'look'], ['priyanka', 'nick', 'took', 'nuptial', 'vows', 'umaid', 'bhavan', 'palace', 'udaipur', 'presence', 'families', 'friends'], ['two', 'honoured', 'cultures', 'wedding'], ['lavish', 'wedding', 'also', 'threw', 'grand', 'wedding', 'reception', 'delhi', 'graced', 'pm', 'narendra', 'modi'], ['bollywood', 'diva', 'priyanka', 'chopra', 'american', 'pop', 'singer', 'nick', 'jonas', 'got', 'married', 'jodhpur', \"'s\", 'umaid', 'bhawan', 'palace', 'december', '01', '02'], ['couple', 'sharing', 'pictures', 'socials', 'media', 'giving', 'us', 'major', 'couple', 'goals'], ['recently', 'pc', 'took', 'instagram', 'post', 'picture', 'nick', 'photo', 'shoot', 'took', 'place', 'wedding'], ['captioned', 'image', '``', 'look', 'wonder', 'lies', 'ahead..', 'filled', 'joy..', \"''\", 'mesmerising', 'fans', 'followers', 'love', 'story', 'lavish', 'wedding', 'bollywood', 'actress', 'priyanka', 'chopra', 'nick', 'jonas', 'yesterday', 'flew', 'back', 'america'], ['recently', 'shared', 'picture', 'adorable', 'nieces', 'cute', 'words'], ['singer', 'actor', 'took', 'instagram', 'handle', 'share', 'picture', 'see', 'working', 'magic', 'keys', 'piano', 'along', 'two', 'beautiful', 'nieces', 'seem', 'teaching', 'play'], ['captioned', 'picture', 'beautiful', 'nieces', 'teaching', 'everything', 'know', 'keys'], ['🎄😍', 'couple', 'got', 'hitched', 'umaid', 'bhavan', 'palace', 'jodhpur', 'always', 'open', 'idea', 'kids', 'starting', 'family'], ['speaking', 'nick', 'reportedly', 'said', 'definitely', 'wants', 'father', 'someday'], ['even', 'rumours', 'nick', 'jonas', 'priyanka', 'chopra', 'relationship', 'two', 'gave', 'major', 'couple', 'goals'], ['lovebirds', 'actually', 'called', 'official', 'tying', 'knot', 'bar', 'set', 'higher'], ['giving', 'serious', 'couple', 'goals', 'nick', 'jonas', 'taken', 'social', 'media', 'handle', 'share', 'adorable', 'picture', 'priyanka', 'chopra', 'christian', 'wedding'], ['picture', 'features', 'newlyweds', 'cutting', 'huge', 'scrumptious', 'look', 'wedding', 'cake'], ['captioned', 'picture', 'one', 'week', 'ago', 'today'], ['beautiful', 'couple', 'recently', 'seen', 'pairing', 'ethnic', 'ensemble', 'isha', 'ambani', 'anand', 'piramal', 'pre-wedding', 'festivity', 'cricketer', 'virat', 'kohli', 'wife', 'actor', 'anushka', 'sharma', 'spending', 'new', 'year', 'holiday', 'sydney', 'australia', 'shared', 'new', 'photos', 'give', 'glimpse', 'fans', 'celebrations', 'like'], ['standing', 'street', 'looked', 'ready', 'party', 'couple', 'looks', 'directly', 'camera'], ['anushka', 'shared', 'another', 'photos', 'seen', 'posing', 'husband'], ['busy', 'year', 'virat', 'anushka'], ['actor', 'three', 'releases', 'year', '--', 'production', 'pari', 'sui', 'dhaaga', 'co-starring', 'varun', 'dhawan', 'zero', 'played', 'scientist', 'cerebral', 'palsy', 'virat', 'maintained', 'pole', 'position', 'year-end', 'icc', 'test', 'player', 'rankings'], ['india', 'also', 'taken', '2-1', 'lead', 'four-match', 'series', 'australia', 'ongoing', 'test', 'series'], ['rajput/instagram', 'kareena', 'kapoor', 'khan', 'anushka', 'sharma', 'sonam', 'kapoor', 'arjun', 'kapoor', 'rajkummar', 'rao', 'among', 'others', 'b-town', 'celebrities', 'spent', 'new', 'year', 'loved', 'ones'], ['alia', 'bhatt', 'joined', 'ranbir', 'kapoor', 'family', 'celebrate', 'new', 'year'], ['ranbir', 'sister', 'riddhima', 'kapoor', 'sahni', 'shared', 'sneak', 'peek', 'celebrations'], ['also', 'saw', 'mira', 'rajput', 'posting', 'perfect', 'family', 'portrait', 'instagram', 'wishing', 'followers', 'shahid', 'kapoor', 'fans', 'happy', 'new', 'year'], ['neetu', 'kapoor', 'shared', 'photo', 'instagram', 'hoped', '2019', 'step', 'closer', 'times', 'cancer', 'zodiac', 'sign', 'happy', '2019', 'resolutions', 'wishes', 'year'], ['less', 'pollution', 'traffic'], ['hope', 'future', 'cancer', 'zodiac', 'sign'], ['hatred', 'less', 'poverty', 'loads', 'love', 'togetherness', 'happiness', 'imp'], ['good', 'health', 'anushka', 'sharma', 'sydney', 'virat', 'kohli', 'wrote', 'hope', 'wake', 'new', 'year', 'filled', 'hope', 'peace', 'compassion', 'may', 'strive', 'kinder', 'one', 'another', 'illuminate', 'light', 'beauty', 'resides', 'within', 'happy', 'new', 'year', 'us', 'another', 'photo', 'alia', 'looks', 'extremely', 'happy', 'company', 'ranbir', 'family'], ['source', 'riddhima', 'kapoor', 'sahni/', 'instagram', 'weird', 'news', '2019', 'dosa', 'named', 'deepika', 'padukone', 'texas', 'us'], ['actor', 'retweeted', 'fan', 'post', 'dosa', 'saying', 'great', 'way', 'begin', 'year', '...', 'happy', 'new', 'year', 'dosa', 'comes', 'potato', 'mix', 'topped', 'fiery', 'red', 'ghost', 'chillis'], ['deepika', 'padukone', 'deepikapadukone', 'great', 'way', 'begin', 'year', '...', 'happy', 'new', 'year', '😁❤️😁', 'deepika', 'padukone', 'fc', 'deepikapfc', 'haha', 'deepikapadukone', 'gon', 'na', 'love', '😂❤', 'https', '//twitter.com/sailee_rk/status/1079964902268141568', 'ranveer', 'deepika', 'present', 'honeymoon', 'tying', 'knot', 'november', 'last', 'year', 'italy', 'lake', 'como'], ['couple', 'went', 'host', 'three', 'wedding', 'receptions', 'mumbai', 'bengaluru'], ['ranveer', 'occupied', 'promotion', 'film', 'simmba', 'already', 'made', 'rs', '100', 'crore', 'box', 'office'], ['interview', 'ht', 'actor', 'said', 'relationship', 'deepika', 'seeing', 'six', 'years'], ['period', 'time', 'grown', 'evolved', 'together'], ['deepika', 'person', 'used', 'six', 'years', 'back', 'neither'], ['growth', 'evolution', 'happened', 'stayed', 'connected'], ['evolution', 'human', 'beings', 'happened', 'together'], ['really', 'stronger', 'ever', 'before.', 'ranveer', 'singh', 'phenomenal', '2018'], ['terms', 'box', 'office', 'revenue', 'biggest', 'star', 'year', 'two', 'films', 'made', 'rs', '400', 'crore', 'box', 'office', 'number', 'set', 'go', 'high', 'simmba', 'still', 'wreaking', 'havoc', 'box', 'office'], ['upcoming', 'february', 'release', 'gully', 'boy', 'selected', 'berlin', 'film', 'festival'], ['turned', 'new', 'leaf', 'life', 'married', 'india', \"'s\", 'top', 'superstar', 'deepika', 'padukone'], ['talking', 'much', 'talked', 'marriage', 'deepika', 'padukone', 'ranveer', 'added', 'despite', 'biggest', 'blockbuster', 'padmaavat', '``', 'herogiri', \"''\", 'simmba', 'appreciated', 'one', 'believes', 'marriage', 'deepika', 'padukone', 'life', \"'s\", 'biggest', 'achievement'], ['also', 'added', 'feels', 'superpower', 'feels', 'invincible', 'protected', 'knowing', 'deepika', 'side', 'cares'], ['deepika', 'padukone', 'reveals', 'relationship', 'ranveer', 'singh', 'evolved', 'years', 'deepika', 'padukone', 'ranveer', 'singh', 'currently', 'one', 'talked', 'couples', 'bollywood'], ['duo', 'lately', 'dodging', 'questions', 'related', 'marriage.in', 'recent', 'interview', 'femina', 'magazine', 'actress', 'asked', 'relationship', 'ranveer', 'singh', 'evolved', 'years', 'reportedly', 'replied', 'connect', 'people', 'lives', 'relationship', 'bound', 'evolve', 'ranveer', 'feel', 'connection'], ['said', 'feels', 'great', 'find', 'ranveer', 'someone', 'depended', 'upon', 'trusted', 'someone', 'puts', 'others'], ['adding', 'said', 'fun', 'honest'], ['considers', 'best', 'friend.meanwhile', 'work', 'front', 'actress', 'set', 'work', 'alongside', 'meghna', 'gulzar', 'untitled', 'next', 'ranveer', 'working', \"'simmba\", \"'gully\", 'boy', 'karan', 'johar', \"'s\", 'magnum', 'opus', \"'takht\"], ['ranveer', 'singh', 'said', 'working', 'towards', 'becoming', 'husband', 'millennium', \"''\", 'joking'], ['letting', 'deepika', 'padukone', 'take', 'reins', 'intimate', 'wedding', 'italy', 'celebrations', 'followed', 'hunk', 'earning', 'major', 'husband', 'points', 'putting', 'wife', 'first', 'ways'], ['following', 'advice', 'say', 'yes', 'everything', 'says', 'star', 'recently', 'opened', 'embracing', 'fatherhood', 'near', 'future'], ['speaking', 'news', 'portal', 'spilled', 'beans', 'starting', 'family', 'superstar', 'wife', 'reportedly', 'said', 'partly', 'call', 'mostly', 'deepika', 'decision', 'respect'], ['meanwhile', 'deepika', 'recently', 'spoke', 'couple', 'honeymoon', 'plans', 'revealed', 'planned', 'anything', 'yet', 'currently', 'busy', 'ranveer', 'simmba', 'promotions'], ['one', 'spoken', 'weddings', 'last', 'year', 'ranve', '..', 'deepika', 'padukone', 'ranveer', 'singh', \"'s\", 'wedding', 'become', 'one', 'most-talked-about', 'bollywood', 'parties', '2018'], ['ad'], [\"'s\", 'every', 'day', 'two', 'film', 'industry', \"'s\", 'biggest', 'stars', 'tie', 'knot', 'together', 'picturesque', 'location', 'lake', 'como'], ['ranveer', 'deepika', 'decided', 'take', 'relationship', 'next', 'level', 'six', 'years', 'dating', 'fans', 'friends', 'ecstatic'], ['though', 'ranveer', 'earlier', 'revealed', 'within', 'six', 'months', 'dating', 'knew', 'deepika', 'one', 'piku', 'actress', 'took', 'sweet', 'time', 'say', 'yes', 'marriage'], ['recently', 'deepika', 'interview', 'magazine', 'revealed', 'first', 'time', 'thought', 'marrying', 'ranveer'], ['``', 'thought', 'marrying', 'ranveer', 'padmaavat'], ['knew', 'going', 'happen', 'matter', 'time'], ['film', 'released', 'felt', 'correct'], ['course', 'ready', 'already', 'committed', 'projects'], [\"n't\", 'sure', \"'d\", 'able', 'take', 'time'], ['made', 'work', \"''\", 'said', 'deepika'], ['deepika', 'ranveer', 'tied', 'knot', 'lake', 'como', 'italy', 'november', '14', '15', 'presence', 'family', 'close', 'friends'], ['two', 'weddings', 'five', 'receptions', 'later', 'newlyweds', 'finally', 'taken', 'honeymoon'], ['eepika', 'padukone', 'ranveer', 'singh', 'made', 'fans', 'hearts', 'melt', 'happiness', 'tied', 'knot', 'november', '14', '15', 'six', 'years', 'dating'], ['romance', 'bloomed', 'sets', 'goliyon', 'ke', 'rasleela', 'ram', 'leela', 'grew', 'stronger', 'day'], ['longest', 'time', 'two', 'preferred', 'dodge', 'questions', 'relationship'], ['however', 'public', 'appearances', 'hand-holding', 'public', 'confirmed', 'speculation', 'true'], ['beginning', '2018', 'much', 'talk', 'engagement', 'supposed', 'happened', 'sri', 'lanka'], ['marriage', 'details', 'first', 'meeting', 'dates', 'trickling'], ['deepika', 'revealed', 'entertainment', 'portal', 'gotten', 'engaged', 'four', 'years', 'ago'], ['asked', 'thought', 'ranveer', 'special', 'said', '``', 'yash', 'raj', 'flirting', 'like', 'nobody', 'business', 'dating', 'somebody', 'else', 'point', 'smiling', 'told', 'flirting', 'me.', \"''\", 'deepika', 'also', 'revealed', 'used', 'frequent', 'restaurants', 'dating', 'special', 'moments', 'ram', 'leela', 'director', 'sanjay', 'leela', 'bhansali', \"'s\", 'house'], ['``', 'sir', 'called', 'us', 'lunch', 'eating', 'apparently', 'piece', 'crab', 'stuck', 'tooth', 'wanted', 'make', 'awkward', 'said', 'oh', 'crab', 'stuck', 'mouth', 'said', 'take'], ['moment', 'three', 'us', 'forget', 'said'], ['ranveer', 'deepika', 'open', 'social-media', 'pda'], ['recently', 'deepika', 'announced', 'title', 'new', 'film', 'chhapaak', 'plays', 'acid', 'attack', 'survivor', 'laxmi', 'aggarwal', 'ranveer', 'praise'], ['commented', 'photo', 'saying', '``', 'proud', 'baby', \"''\"], ['ranveer', 'deepika', 'got', 'married', 'two', 'days', 'picturesque', 'villa', 'del', 'balbianello', 'italy'], ['traditional', 'konkani-style', 'nuptials', 'november', '14', 'followed', 'anand', 'karaj', 'ceremony', 'november', '15'], ['ranveer', 'deepika', 'hosted', 'three', 'receptions', 'one', 'actress', \"'s\", 'hometown', 'bengaluru', 'followed', 'two', 'parties', 'mumbai'], ['soon', 'wedding', 'festivities', 'came', 'end', 'ranveer', 'threw', 'promotions', 'rohit', 'shetty', \"'s\", 'simmba'], ['recent', 'interview', 'ranveer', 'opened', 'deepika', 'decided', 'one'], ['``', 'six', 'months', 'relationship', 'knew', 'one'], ['nurtured', 'relationship', 'accordingly'], [\"'s\", 'six', 'years'], [\"'s\", 'good', 'lovely'], [\"'s\", 'force', 'nature'], ['understood', 'almost', 'immediately.', '``'], ['added', 'lucky'], ['``', 'knew', 'well', 'woman', 'going', 'marry'], ['woman', 'would', 'become', 'mother', 'children'], ['thinking', 'marriage', 'seriously', 'almost', 'three', 'years'], ['waiting', 'told', 'minute', 'say', \"''\"], ['b-town', 'excited', 'fairytale', 'wedding', 'ranveer', 'singh', 'deepika', 'padukone', 'ever', 'since', 'couple', 'announced', 'wedding', 'dates'], ['know', 'started', 'met', 'got', 'know', 'sets', 'first', 'film', 'sanjay', 'leela', 'bhansali', 'goliyon', 'ki', 'rasleela', 'ram-leela', 'gulshan', 'devaiah', 'also', 'part', 'film', 'opened', 'recently', 'started', 'blossomed'], ['talking', 'love-story', 'reportedly', 'said', 'romance', 'started', 'sets', 'goliyon', 'ki', 'rasleela', 'ram-leela', 'saw', 'getting', 'close', 'first', 'day', 'shoot'], ['also', 'said', 'still', 'remembers', 'udaipur', 'schedule', 'saw', 'deepika', 'sitting', 'ranveer', \"'s\", 'lap', 'surprised', 'quite', 'bit'], ['said', 'romance', 'come', 'long', 'way'], ['romance', 'fondest', 'memory', 'right', 'saw', 'himself.meanwhile', 'deepika', 'padukone', 'ranveer', 'singh', 'tie', 'knot', '14th', '15th', 'november', 'year'], ['ranveer', 'singh', 'one', 'loving', 'boyfriend', 'deepika', 'padukone', 'never', 'thought', 'twice', 'displaying', 'affection', 'husband', 'even', 'doting', 'supportive'], ['latest', 'comment', 'deepika', 'padukone', 'next', 'film', 'announcement', 'instagram', 'proof'], ['taking', 'social', 'media', 'handles', 'deepika', 'announced', 'upcoming', 'film', 'chhapaak', 'picture', 'quotation', 'read', 'story', 'trauma', 'triumph', 'unquashable', 'human', 'spirit'], ['lauding', 'choice', 'film', 'ranveer', 'took', 'comments', 'section', 'wrote', 'proud', 'baby']]\n"
          ],
          "name": "stdout"
        }
      ]
    },
    {
      "cell_type": "code",
      "metadata": {
        "id": "Q-JDRx1S9arQ",
        "colab_type": "code",
        "colab": {}
      },
      "source": [
        "# lib\n",
        "from gensim.models import Word2Vec"
      ],
      "execution_count": null,
      "outputs": []
    },
    {
      "cell_type": "code",
      "metadata": {
        "id": "W2k6ddD39arT",
        "colab_type": "code",
        "colab": {}
      },
      "source": [
        "model = Word2Vec(text, size= 300, window= 5, min_count= 4)"
      ],
      "execution_count": null,
      "outputs": []
    },
    {
      "cell_type": "code",
      "metadata": {
        "id": "X2TiwGwo9arV",
        "colab_type": "code",
        "colab": {
          "base_uri": "https://localhost:8080/",
          "height": 1000
        },
        "outputId": "ac4b5b51-0efc-4158-b27e-990f1324da83"
      },
      "source": [
        "words = model.wv.vocab\n",
        "words"
      ],
      "execution_count": null,
      "outputs": [
        {
          "output_type": "execute_result",
          "data": {
            "text/plain": [
              "{\"''\": <gensim.models.keyedvectors.Vocab at 0x7f7916a386a0>,\n",
              " \"'s\": <gensim.models.keyedvectors.Vocab at 0x7f7916a1aac8>,\n",
              " '14': <gensim.models.keyedvectors.Vocab at 0x7f7916a1a7f0>,\n",
              " '15': <gensim.models.keyedvectors.Vocab at 0x7f7916a1a7b8>,\n",
              " '2018': <gensim.models.keyedvectors.Vocab at 0x7f7916a1a550>,\n",
              " '``': <gensim.models.keyedvectors.Vocab at 0x7f7916a38668>,\n",
              " 'actor': <gensim.models.keyedvectors.Vocab at 0x7f7916a38780>,\n",
              " 'actress': <gensim.models.keyedvectors.Vocab at 0x7f7916a38710>,\n",
              " 'added': <gensim.models.keyedvectors.Vocab at 0x7f7916a1afd0>,\n",
              " 'adorable': <gensim.models.keyedvectors.Vocab at 0x7f7916a38400>,\n",
              " 'also': <gensim.models.keyedvectors.Vocab at 0x7f7916a1a278>,\n",
              " 'ambani': <gensim.models.keyedvectors.Vocab at 0x7f7916a1a908>,\n",
              " 'anand': <gensim.models.keyedvectors.Vocab at 0x7f7916a1a780>,\n",
              " 'announced': <gensim.models.keyedvectors.Vocab at 0x7f7916a38438>,\n",
              " 'another': <gensim.models.keyedvectors.Vocab at 0x7f7916a1abe0>,\n",
              " 'anushka': <gensim.models.keyedvectors.Vocab at 0x7f7916a38860>,\n",
              " 'beautiful': <gensim.models.keyedvectors.Vocab at 0x7f7916a38240>,\n",
              " 'bhawan': <gensim.models.keyedvectors.Vocab at 0x7f7916a380f0>,\n",
              " 'biggest': <gensim.models.keyedvectors.Vocab at 0x7f7916a1a2e8>,\n",
              " 'bollywood': <gensim.models.keyedvectors.Vocab at 0x7f7916a1a5c0>,\n",
              " 'box': <gensim.models.keyedvectors.Vocab at 0x7f7916a389e8>,\n",
              " 'celebrations': <gensim.models.keyedvectors.Vocab at 0x7f7916a1a6d8>,\n",
              " 'chopra': <gensim.models.keyedvectors.Vocab at 0x7f7916a1a9e8>,\n",
              " 'como': <gensim.models.keyedvectors.Vocab at 0x7f7916a1a860>,\n",
              " 'couple': <gensim.models.keyedvectors.Vocab at 0x7f7916a1a358>,\n",
              " 'dating': <gensim.models.keyedvectors.Vocab at 0x7f7916a382e8>,\n",
              " 'december': <gensim.models.keyedvectors.Vocab at 0x7f7916a1ab70>,\n",
              " 'deepika': <gensim.models.keyedvectors.Vocab at 0x7f7916a1a3c8>,\n",
              " 'even': <gensim.models.keyedvectors.Vocab at 0x7f7916a1a6a0>,\n",
              " 'fairytale': <gensim.models.keyedvectors.Vocab at 0x7f7916a38048>,\n",
              " 'family': <gensim.models.keyedvectors.Vocab at 0x7f7916a387b8>,\n",
              " 'fans': <gensim.models.keyedvectors.Vocab at 0x7f7916a386d8>,\n",
              " 'festivities': <gensim.models.keyedvectors.Vocab at 0x7f7916a1ac88>,\n",
              " 'film': <gensim.models.keyedvectors.Vocab at 0x7f7916a38978>,\n",
              " 'first': <gensim.models.keyedvectors.Vocab at 0x7f7916a38b38>,\n",
              " 'followed': <gensim.models.keyedvectors.Vocab at 0x7f7916a1ad30>,\n",
              " 'friends': <gensim.models.keyedvectors.Vocab at 0x7f7916a382b0>,\n",
              " 'goals': <gensim.models.keyedvectors.Vocab at 0x7f7916a384a8>,\n",
              " 'gorgeous': <gensim.models.keyedvectors.Vocab at 0x7f7916a1aeb8>,\n",
              " 'got': <gensim.models.keyedvectors.Vocab at 0x7f7916a38208>,\n",
              " 'happened': <gensim.models.keyedvectors.Vocab at 0x7f7916a1a240>,\n",
              " 'happy': <gensim.models.keyedvectors.Vocab at 0x7f7916a38940>,\n",
              " 'host': <gensim.models.keyedvectors.Vocab at 0x7f7916a1ac18>,\n",
              " 'husband': <gensim.models.keyedvectors.Vocab at 0x7f7916a388d0>,\n",
              " 'instagram': <gensim.models.keyedvectors.Vocab at 0x7f7916a383c8>,\n",
              " 'interview': <gensim.models.keyedvectors.Vocab at 0x7f7916a38a58>,\n",
              " 'isha': <gensim.models.keyedvectors.Vocab at 0x7f7916a1aa90>,\n",
              " 'italy': <gensim.models.keyedvectors.Vocab at 0x7f7916a1ae10>,\n",
              " 'jodhpur': <gensim.models.keyedvectors.Vocab at 0x7f7916a1ab38>,\n",
              " 'jonas': <gensim.models.keyedvectors.Vocab at 0x7f7916a1a2b0>,\n",
              " 'kapoor': <gensim.models.keyedvectors.Vocab at 0x7f7916a38908>,\n",
              " 'knew': <gensim.models.keyedvectors.Vocab at 0x7f7916a38ba8>,\n",
              " 'knot': <gensim.models.keyedvectors.Vocab at 0x7f7916a1a940>,\n",
              " 'lake': <gensim.models.keyedvectors.Vocab at 0x7f7916a1a9b0>,\n",
              " 'lavish': <gensim.models.keyedvectors.Vocab at 0x7f7916a1a588>,\n",
              " 'leela': <gensim.models.keyedvectors.Vocab at 0x7f7916a38c18>,\n",
              " 'like': <gensim.models.keyedvectors.Vocab at 0x7f7916a1add8>,\n",
              " 'look': <gensim.models.keyedvectors.Vocab at 0x7f7916a38588>,\n",
              " 'looks': <gensim.models.keyedvectors.Vocab at 0x7f7916a1a048>,\n",
              " 'love': <gensim.models.keyedvectors.Vocab at 0x7f7916a1af98>,\n",
              " 'made': <gensim.models.keyedvectors.Vocab at 0x7f7916a1af28>,\n",
              " 'major': <gensim.models.keyedvectors.Vocab at 0x7f7916a38470>,\n",
              " 'man': <gensim.models.keyedvectors.Vocab at 0x7f7916a1a668>,\n",
              " 'marriage': <gensim.models.keyedvectors.Vocab at 0x7f7916a38b00>,\n",
              " 'married': <gensim.models.keyedvectors.Vocab at 0x7f7916a1ada0>,\n",
              " 'media': <gensim.models.keyedvectors.Vocab at 0x7f7916a1a5f8>,\n",
              " 'mumbai': <gensim.models.keyedvectors.Vocab at 0x7f7916a1a978>,\n",
              " 'new': <gensim.models.keyedvectors.Vocab at 0x7f7916a38898>,\n",
              " 'next': <gensim.models.keyedvectors.Vocab at 0x7f7916a38390>,\n",
              " 'nick': <gensim.models.keyedvectors.Vocab at 0x7f7916a1a4a8>,\n",
              " 'november': <gensim.models.keyedvectors.Vocab at 0x7f7916a1a630>,\n",
              " 'office': <gensim.models.keyedvectors.Vocab at 0x7f7916a38a20>,\n",
              " 'one': <gensim.models.keyedvectors.Vocab at 0x7f7916a1a208>,\n",
              " 'padukone': <gensim.models.keyedvectors.Vocab at 0x7f7916a1a0f0>,\n",
              " 'palace': <gensim.models.keyedvectors.Vocab at 0x7f7916a38128>,\n",
              " 'parties': <gensim.models.keyedvectors.Vocab at 0x7f7916a1a898>,\n",
              " 'photo': <gensim.models.keyedvectors.Vocab at 0x7f7916a38630>,\n",
              " 'picture': <gensim.models.keyedvectors.Vocab at 0x7f7916a384e0>,\n",
              " 'pictures': <gensim.models.keyedvectors.Vocab at 0x7f7916a38198>,\n",
              " 'piramal': <gensim.models.keyedvectors.Vocab at 0x7f7916a1a710>,\n",
              " 'priyanka': <gensim.models.keyedvectors.Vocab at 0x7f7916a1a4e0>,\n",
              " 'ranveer': <gensim.models.keyedvectors.Vocab at 0x7f7916a1a1d0>,\n",
              " 'recently': <gensim.models.keyedvectors.Vocab at 0x7f7916a385f8>,\n",
              " 'reception': <gensim.models.keyedvectors.Vocab at 0x7f7916a1a080>,\n",
              " 'receptions': <gensim.models.keyedvectors.Vocab at 0x7f7916a38080>,\n",
              " 'relationship': <gensim.models.keyedvectors.Vocab at 0x7f7916a38358>,\n",
              " 'reportedly': <gensim.models.keyedvectors.Vocab at 0x7f7916a38278>,\n",
              " 'revealed': <gensim.models.keyedvectors.Vocab at 0x7f7916a38b70>,\n",
              " 'romance': <gensim.models.keyedvectors.Vocab at 0x7f7916a38be0>,\n",
              " 'sabyasachi': <gensim.models.keyedvectors.Vocab at 0x7f7916a1ae80>,\n",
              " 'said': <gensim.models.keyedvectors.Vocab at 0x7f7916a387f0>,\n",
              " 'saree': <gensim.models.keyedvectors.Vocab at 0x7f7916a1aef0>,\n",
              " 'saw': <gensim.models.keyedvectors.Vocab at 0x7f7916a1a748>,\n",
              " 'seen': <gensim.models.keyedvectors.Vocab at 0x7f7916a1ae48>,\n",
              " 'shared': <gensim.models.keyedvectors.Vocab at 0x7f7916a38748>,\n",
              " 'sharma': <gensim.models.keyedvectors.Vocab at 0x7f7916a1aa20>,\n",
              " 'simmba': <gensim.models.keyedvectors.Vocab at 0x7f7916a389b0>,\n",
              " 'since': <gensim.models.keyedvectors.Vocab at 0x7f7916a38160>,\n",
              " 'singh': <gensim.models.keyedvectors.Vocab at 0x7f7916a1a518>,\n",
              " 'six': <gensim.models.keyedvectors.Vocab at 0x7f7916a38a90>,\n",
              " 'social': <gensim.models.keyedvectors.Vocab at 0x7f7916a1a8d0>,\n",
              " 'take': <gensim.models.keyedvectors.Vocab at 0x7f7916a38320>,\n",
              " 'taken': <gensim.models.keyedvectors.Vocab at 0x7f7916a38518>,\n",
              " 'thought': <gensim.models.keyedvectors.Vocab at 0x7f7916a381d0>,\n",
              " 'three': <gensim.models.keyedvectors.Vocab at 0x7f7916a1ad68>,\n",
              " 'tied': <gensim.models.keyedvectors.Vocab at 0x7f7916a1ab00>,\n",
              " 'time': <gensim.models.keyedvectors.Vocab at 0x7f7916a1ac50>,\n",
              " 'together': <gensim.models.keyedvectors.Vocab at 0x7f7916a385c0>,\n",
              " 'took': <gensim.models.keyedvectors.Vocab at 0x7f7916a1acc0>,\n",
              " 'two': <gensim.models.keyedvectors.Vocab at 0x7f7916a1a198>,\n",
              " 'udaipur': <gensim.models.keyedvectors.Vocab at 0x7f7916a1acf8>,\n",
              " 'umaid': <gensim.models.keyedvectors.Vocab at 0x7f7916a380b8>,\n",
              " 'us': <gensim.models.keyedvectors.Vocab at 0x7f7916a1a160>,\n",
              " 'virat': <gensim.models.keyedvectors.Vocab at 0x7f7916a38828>,\n",
              " 'way': <gensim.models.keyedvectors.Vocab at 0x7f7916a1af60>,\n",
              " 'wedding': <gensim.models.keyedvectors.Vocab at 0x7f7916a1a828>,\n",
              " 'weddings': <gensim.models.keyedvectors.Vocab at 0x7f7916a1a400>,\n",
              " 'wife': <gensim.models.keyedvectors.Vocab at 0x7f7916a38550>,\n",
              " 'year': <gensim.models.keyedvectors.Vocab at 0x7f7916a1a470>,\n",
              " 'years': <gensim.models.keyedvectors.Vocab at 0x7f7916a38ac8>,\n",
              " 'yet': <gensim.models.keyedvectors.Vocab at 0x7f7916a1aba8>}"
            ]
          },
          "metadata": {
            "tags": []
          },
          "execution_count": 109
        }
      ]
    },
    {
      "cell_type": "code",
      "metadata": {
        "id": "knSqt9OF9arX",
        "colab_type": "code",
        "colab": {
          "base_uri": "https://localhost:8080/",
          "height": 34
        },
        "outputId": "fe835600-a54d-4af8-b5c8-f1ef67c0467b"
      },
      "source": [
        "len(words)"
      ],
      "execution_count": null,
      "outputs": [
        {
          "output_type": "execute_result",
          "data": {
            "text/plain": [
              "121"
            ]
          },
          "metadata": {
            "tags": []
          },
          "execution_count": 110
        }
      ]
    },
    {
      "cell_type": "code",
      "metadata": {
        "id": "hh8rAD2D9arZ",
        "colab_type": "code",
        "colab": {
          "base_uri": "https://localhost:8080/",
          "height": 1000
        },
        "outputId": "d162d057-a8dd-426e-bcd7-256e7d43ff99"
      },
      "source": [
        "model[\"deepika\"]"
      ],
      "execution_count": null,
      "outputs": [
        {
          "output_type": "stream",
          "text": [
            "/usr/local/lib/python3.6/dist-packages/ipykernel_launcher.py:1: DeprecationWarning: Call to deprecated `__getitem__` (Method will be removed in 4.0.0, use self.wv.__getitem__() instead).\n",
            "  \"\"\"Entry point for launching an IPython kernel.\n"
          ],
          "name": "stderr"
        },
        {
          "output_type": "execute_result",
          "data": {
            "text/plain": [
              "array([-3.7348998e-04, -5.5874285e-04, -8.1451074e-04,  1.5597136e-03,\n",
              "        1.5422044e-03, -4.6107372e-05, -1.0270571e-03,  4.1657564e-04,\n",
              "       -6.0811429e-04,  3.2852369e-04,  1.8269591e-04, -4.0312187e-04,\n",
              "        9.9296437e-04,  4.5072340e-04,  5.5370515e-04, -7.6067174e-04,\n",
              "       -7.3857472e-04,  8.2679508e-05, -1.2128314e-03,  2.6621201e-04,\n",
              "       -1.3482868e-03, -3.8509391e-04, -4.3008931e-04, -2.2064711e-04,\n",
              "        2.3773588e-04,  1.4485372e-03, -3.0974697e-04, -6.9580099e-04,\n",
              "       -1.1980457e-03,  6.5361208e-04, -1.7807847e-03, -7.6328957e-04,\n",
              "        6.0992717e-04,  3.1309671e-04, -4.1628638e-04, -1.3454816e-04,\n",
              "       -8.4232545e-04, -1.5386868e-03, -1.6935607e-03,  1.1022186e-03,\n",
              "        1.3122032e-04,  1.6259874e-03, -5.7433755e-04,  2.7768622e-04,\n",
              "       -1.3069123e-03,  1.3961298e-03,  1.4801977e-04, -5.2391464e-04,\n",
              "        4.5990240e-04, -1.0248454e-03,  1.3777952e-03,  1.8291152e-03,\n",
              "       -2.7853053e-04, -3.1704997e-04,  1.6839803e-03, -7.2193309e-04,\n",
              "       -7.3618966e-04, -1.6696468e-03, -4.0510643e-04, -1.5458765e-03,\n",
              "       -1.7093221e-04, -1.1369500e-03, -4.7890859e-04, -8.7300199e-04,\n",
              "       -1.0802771e-03, -6.9345359e-04,  1.4299557e-03, -9.8146161e-04,\n",
              "       -7.4155396e-04,  1.7118844e-04,  1.0282310e-03, -1.1976089e-03,\n",
              "        4.6870773e-04, -1.2097558e-04,  1.1259991e-03, -1.5201190e-03,\n",
              "       -1.1823664e-03, -7.9966383e-04, -6.3441996e-04,  2.3083150e-04,\n",
              "       -1.1873505e-03,  2.4148656e-04, -9.4619539e-04,  1.4355455e-03,\n",
              "       -6.8763411e-04,  2.9117014e-04,  6.9961272e-04,  1.0102623e-03,\n",
              "        1.1583813e-03, -1.4154146e-03, -1.3100852e-03,  2.0578320e-04,\n",
              "       -1.4210954e-04,  7.6946756e-04, -3.7035821e-05,  1.2654372e-03,\n",
              "        4.0022258e-04,  1.2220297e-03,  1.6040505e-03, -9.5741825e-06,\n",
              "        9.2117133e-04, -9.4624603e-04, -9.0919191e-04,  1.7859412e-03,\n",
              "       -1.1348419e-03,  1.4502548e-03, -1.2882877e-03,  5.8218767e-04,\n",
              "       -1.7344825e-04,  4.9823924e-04, -1.0313425e-03, -6.8842550e-04,\n",
              "       -7.5145694e-04, -2.2186765e-05, -7.8134029e-04, -2.5458151e-04,\n",
              "       -1.5551009e-03, -4.9667468e-04,  1.6488417e-03, -1.3658151e-03,\n",
              "       -1.5661478e-04, -1.4423596e-03,  5.0554215e-04,  1.8719245e-03,\n",
              "       -5.6805520e-04, -1.4450351e-03, -8.3126238e-04, -1.3679217e-03,\n",
              "       -1.2097049e-03, -8.6656661e-04,  4.3766593e-04,  1.2085851e-03,\n",
              "       -1.1628604e-03, -1.2847299e-03,  1.1796637e-03, -1.3230628e-03,\n",
              "       -1.4671788e-03,  2.3147653e-04,  9.5643126e-04,  8.7155215e-04,\n",
              "       -9.3544641e-04,  1.7102541e-03,  1.1844474e-03, -1.5871124e-03,\n",
              "       -1.2584339e-04, -1.3229934e-03, -2.6612036e-04,  4.9692484e-05,\n",
              "        7.8957819e-04,  1.2482539e-03,  7.9219241e-04, -1.4121502e-03,\n",
              "       -2.0717664e-05, -1.3992778e-03,  3.9229801e-04, -1.3192749e-03,\n",
              "       -1.8320394e-03,  1.0517065e-03, -8.7681279e-04, -7.9949712e-04,\n",
              "       -1.1599504e-03,  1.9671816e-04, -3.0520110e-04, -5.6409050e-04,\n",
              "       -6.1004504e-04,  1.2117765e-03,  6.9628336e-04,  4.0019815e-05,\n",
              "        4.2122495e-04, -1.3885282e-03,  1.2668298e-03,  1.4818644e-03,\n",
              "       -1.3303048e-04,  1.6536795e-03, -4.8310289e-04,  7.2641438e-04,\n",
              "        9.7082386e-04, -1.7247431e-04, -1.0292451e-03, -1.3333146e-03,\n",
              "        5.7123794e-04,  1.4285905e-03,  1.2949011e-03, -8.8846125e-04,\n",
              "       -1.5527707e-03, -1.7257241e-03, -1.6053928e-04,  1.4955438e-03,\n",
              "       -8.1553624e-04, -4.2799333e-04,  9.6583151e-04,  1.5296445e-03,\n",
              "       -4.8414717e-04,  3.8749067e-04, -1.0624490e-03, -6.3303974e-04,\n",
              "        1.5186347e-03,  1.5734250e-03, -1.3330668e-04,  1.0693365e-03,\n",
              "       -8.1276608e-04, -1.7567653e-04,  2.5940637e-04,  1.4008683e-03,\n",
              "       -1.4222970e-03,  1.2344531e-03,  8.3971256e-04, -2.8636045e-04,\n",
              "        7.4974517e-04,  1.5754481e-03,  1.3026261e-03, -1.0182047e-03,\n",
              "       -6.2165497e-04,  1.8801360e-04, -7.0179440e-04,  1.6318456e-03,\n",
              "        7.4167314e-05, -1.3360748e-03,  8.9347776e-04, -5.4637343e-04,\n",
              "       -2.1637259e-04, -5.4441241e-04, -1.0701058e-03,  8.7066187e-04,\n",
              "       -1.1133658e-03, -3.8479213e-04, -6.6927855e-06, -4.9244001e-04,\n",
              "       -1.2276322e-03, -1.2861320e-03,  1.0708014e-03, -1.2582889e-03,\n",
              "       -9.7344880e-04,  8.7667856e-04, -1.3936581e-03, -8.3508191e-04,\n",
              "       -1.1357167e-03, -1.3548310e-03, -1.3264501e-03, -3.9400649e-04,\n",
              "       -7.4397435e-04,  2.5428785e-04, -1.5791035e-03, -1.4854470e-04,\n",
              "        1.5008094e-03,  4.0466175e-04, -5.1410380e-04,  3.1935098e-04,\n",
              "       -7.8214757e-04, -1.3344631e-03,  5.4737809e-04,  7.8440737e-04,\n",
              "       -1.6609532e-03,  9.8086733e-05, -1.5200226e-04, -3.8768619e-04,\n",
              "        1.0889320e-03, -9.6340809e-04, -8.5987110e-04, -1.6669080e-03,\n",
              "       -4.3790072e-04,  1.3796542e-03,  1.0836842e-03,  1.3968914e-03,\n",
              "        1.9288044e-04, -1.0119431e-03,  4.6060103e-04,  3.5688304e-04,\n",
              "        8.0702326e-04,  1.3187345e-03,  1.0024150e-03, -6.8578796e-05,\n",
              "        1.6813489e-03,  2.9184442e-04,  1.3901314e-04,  1.1805348e-03,\n",
              "       -1.4486769e-03,  1.0424627e-03,  8.7307027e-04, -8.2006055e-04,\n",
              "       -4.5842913e-04, -4.1438386e-04,  1.2982894e-03,  1.2198167e-03,\n",
              "       -7.5742340e-04, -7.6386507e-04,  3.9940103e-04,  1.7002635e-03,\n",
              "       -5.4160994e-04, -1.9720958e-04, -2.3546000e-04, -9.4161474e-04,\n",
              "       -2.4486872e-04, -1.3338155e-03, -1.6839270e-03,  1.0366255e-03,\n",
              "        8.3132036e-04,  3.1897158e-04, -4.3709675e-04, -1.8334022e-04],\n",
              "      dtype=float32)"
            ]
          },
          "metadata": {
            "tags": []
          },
          "execution_count": 111
        }
      ]
    },
    {
      "cell_type": "code",
      "metadata": {
        "id": "69sy-cdm9arr",
        "colab_type": "code",
        "colab": {}
      },
      "source": [
        "def predict_actor(a, b, c, model):\n",
        "    \"\"\"Accepts a triad of words, a,b,c and returns d such that a is to b : c is to d\"\"\"\n",
        "    wv_a, wv_b, wv_c = model[a], model[b], model[c]\n",
        "\n",
        "    actors = [\"ranveer\",\"deepika\",\"padukone\",\"singh\",\"nick\",\"jonas\",\"chopra\",\"priyanka\",\"virat\",\"anushka\"]\n",
        "    min_sim = -10\n",
        "    pred_word = None\n",
        "    \n",
        "    for w in actors:\n",
        "        if w in [a, b, c]:\n",
        "            continue\n",
        "\n",
        "        wv_w = model[w]\n",
        "        temp_sim = cosine_similarity([wv_b - wv_a], [wv_w - wv_c])\n",
        "\n",
        "        if temp_sim > min_sim:\n",
        "            min_sim = temp_sim\n",
        "            pred_word = w\n",
        "\n",
        "    return pred_word"
      ],
      "execution_count": null,
      "outputs": []
    },
    {
      "cell_type": "markdown",
      "metadata": {
        "id": "pKuRaLJz9art",
        "colab_type": "text"
      },
      "source": [
        "### 4. Test your Model"
      ]
    },
    {
      "cell_type": "code",
      "metadata": {
        "id": "PBbupnFVmEAy",
        "colab_type": "code",
        "colab": {}
      },
      "source": [
        ""
      ],
      "execution_count": null,
      "outputs": []
    },
    {
      "cell_type": "code",
      "metadata": {
        "id": "dvWffD4G9art",
        "colab_type": "code",
        "colab": {
          "base_uri": "https://localhost:8080/",
          "height": 322
        },
        "outputId": "bea961cd-ee71-4e9a-ca9e-4c9552bc44be"
      },
      "source": [
        "a, b, c = \"nick\", \"priyanka\", \"virat\"\n",
        "print(predict_actor(a, b, c, model))"
      ],
      "execution_count": null,
      "outputs": [
        {
          "output_type": "stream",
          "text": [
            "chopra\n"
          ],
          "name": "stdout"
        },
        {
          "output_type": "stream",
          "text": [
            "/usr/local/lib/python3.6/dist-packages/ipykernel_launcher.py:3: DeprecationWarning: Call to deprecated `__getitem__` (Method will be removed in 4.0.0, use self.wv.__getitem__() instead).\n",
            "  This is separate from the ipykernel package so we can avoid doing imports until\n",
            "/usr/local/lib/python3.6/dist-packages/ipykernel_launcher.py:13: DeprecationWarning: Call to deprecated `__getitem__` (Method will be removed in 4.0.0, use self.wv.__getitem__() instead).\n",
            "  del sys.path[0]\n",
            "/usr/local/lib/python3.6/dist-packages/ipykernel_launcher.py:13: DeprecationWarning: Call to deprecated `__getitem__` (Method will be removed in 4.0.0, use self.wv.__getitem__() instead).\n",
            "  del sys.path[0]\n",
            "/usr/local/lib/python3.6/dist-packages/ipykernel_launcher.py:13: DeprecationWarning: Call to deprecated `__getitem__` (Method will be removed in 4.0.0, use self.wv.__getitem__() instead).\n",
            "  del sys.path[0]\n",
            "/usr/local/lib/python3.6/dist-packages/ipykernel_launcher.py:13: DeprecationWarning: Call to deprecated `__getitem__` (Method will be removed in 4.0.0, use self.wv.__getitem__() instead).\n",
            "  del sys.path[0]\n",
            "/usr/local/lib/python3.6/dist-packages/ipykernel_launcher.py:13: DeprecationWarning: Call to deprecated `__getitem__` (Method will be removed in 4.0.0, use self.wv.__getitem__() instead).\n",
            "  del sys.path[0]\n",
            "/usr/local/lib/python3.6/dist-packages/ipykernel_launcher.py:13: DeprecationWarning: Call to deprecated `__getitem__` (Method will be removed in 4.0.0, use self.wv.__getitem__() instead).\n",
            "  del sys.path[0]\n",
            "/usr/local/lib/python3.6/dist-packages/ipykernel_launcher.py:13: DeprecationWarning: Call to deprecated `__getitem__` (Method will be removed in 4.0.0, use self.wv.__getitem__() instead).\n",
            "  del sys.path[0]\n"
          ],
          "name": "stderr"
        }
      ]
    },
    {
      "cell_type": "code",
      "metadata": {
        "id": "pdnqnwwa9arv",
        "colab_type": "code",
        "colab": {
          "base_uri": "https://localhost:8080/",
          "height": 322
        },
        "outputId": "82eda325-ab46-4475-ae14-f3d96cca6ecc"
      },
      "source": [
        "a, b, c = \"ranveer\", \"deepika\", \"priyanka\"\n",
        "print(predict_actor(a, b, c, model))"
      ],
      "execution_count": null,
      "outputs": [
        {
          "output_type": "stream",
          "text": [
            "anushka\n"
          ],
          "name": "stdout"
        },
        {
          "output_type": "stream",
          "text": [
            "/usr/local/lib/python3.6/dist-packages/ipykernel_launcher.py:3: DeprecationWarning: Call to deprecated `__getitem__` (Method will be removed in 4.0.0, use self.wv.__getitem__() instead).\n",
            "  This is separate from the ipykernel package so we can avoid doing imports until\n",
            "/usr/local/lib/python3.6/dist-packages/ipykernel_launcher.py:13: DeprecationWarning: Call to deprecated `__getitem__` (Method will be removed in 4.0.0, use self.wv.__getitem__() instead).\n",
            "  del sys.path[0]\n",
            "/usr/local/lib/python3.6/dist-packages/ipykernel_launcher.py:13: DeprecationWarning: Call to deprecated `__getitem__` (Method will be removed in 4.0.0, use self.wv.__getitem__() instead).\n",
            "  del sys.path[0]\n",
            "/usr/local/lib/python3.6/dist-packages/ipykernel_launcher.py:13: DeprecationWarning: Call to deprecated `__getitem__` (Method will be removed in 4.0.0, use self.wv.__getitem__() instead).\n",
            "  del sys.path[0]\n",
            "/usr/local/lib/python3.6/dist-packages/ipykernel_launcher.py:13: DeprecationWarning: Call to deprecated `__getitem__` (Method will be removed in 4.0.0, use self.wv.__getitem__() instead).\n",
            "  del sys.path[0]\n",
            "/usr/local/lib/python3.6/dist-packages/ipykernel_launcher.py:13: DeprecationWarning: Call to deprecated `__getitem__` (Method will be removed in 4.0.0, use self.wv.__getitem__() instead).\n",
            "  del sys.path[0]\n",
            "/usr/local/lib/python3.6/dist-packages/ipykernel_launcher.py:13: DeprecationWarning: Call to deprecated `__getitem__` (Method will be removed in 4.0.0, use self.wv.__getitem__() instead).\n",
            "  del sys.path[0]\n",
            "/usr/local/lib/python3.6/dist-packages/ipykernel_launcher.py:13: DeprecationWarning: Call to deprecated `__getitem__` (Method will be removed in 4.0.0, use self.wv.__getitem__() instead).\n",
            "  del sys.path[0]\n"
          ],
          "name": "stderr"
        }
      ]
    },
    {
      "cell_type": "code",
      "metadata": {
        "id": "KvY2DY8d9arx",
        "colab_type": "code",
        "colab": {
          "base_uri": "https://localhost:8080/",
          "height": 322
        },
        "outputId": "8768a0ba-8795-458d-dd27-65298e1ef8b8"
      },
      "source": [
        "a,b,c = \"ranveer\", \"singh\", \"deepika\"\n",
        "predict_actor(a, b, c, model)"
      ],
      "execution_count": null,
      "outputs": [
        {
          "output_type": "stream",
          "text": [
            "/usr/local/lib/python3.6/dist-packages/ipykernel_launcher.py:3: DeprecationWarning: Call to deprecated `__getitem__` (Method will be removed in 4.0.0, use self.wv.__getitem__() instead).\n",
            "  This is separate from the ipykernel package so we can avoid doing imports until\n",
            "/usr/local/lib/python3.6/dist-packages/ipykernel_launcher.py:13: DeprecationWarning: Call to deprecated `__getitem__` (Method will be removed in 4.0.0, use self.wv.__getitem__() instead).\n",
            "  del sys.path[0]\n",
            "/usr/local/lib/python3.6/dist-packages/ipykernel_launcher.py:13: DeprecationWarning: Call to deprecated `__getitem__` (Method will be removed in 4.0.0, use self.wv.__getitem__() instead).\n",
            "  del sys.path[0]\n",
            "/usr/local/lib/python3.6/dist-packages/ipykernel_launcher.py:13: DeprecationWarning: Call to deprecated `__getitem__` (Method will be removed in 4.0.0, use self.wv.__getitem__() instead).\n",
            "  del sys.path[0]\n",
            "/usr/local/lib/python3.6/dist-packages/ipykernel_launcher.py:13: DeprecationWarning: Call to deprecated `__getitem__` (Method will be removed in 4.0.0, use self.wv.__getitem__() instead).\n",
            "  del sys.path[0]\n",
            "/usr/local/lib/python3.6/dist-packages/ipykernel_launcher.py:13: DeprecationWarning: Call to deprecated `__getitem__` (Method will be removed in 4.0.0, use self.wv.__getitem__() instead).\n",
            "  del sys.path[0]\n",
            "/usr/local/lib/python3.6/dist-packages/ipykernel_launcher.py:13: DeprecationWarning: Call to deprecated `__getitem__` (Method will be removed in 4.0.0, use self.wv.__getitem__() instead).\n",
            "  del sys.path[0]\n",
            "/usr/local/lib/python3.6/dist-packages/ipykernel_launcher.py:13: DeprecationWarning: Call to deprecated `__getitem__` (Method will be removed in 4.0.0, use self.wv.__getitem__() instead).\n",
            "  del sys.path[0]\n"
          ],
          "name": "stderr"
        },
        {
          "output_type": "execute_result",
          "data": {
            "text/plain": [
              "'priyanka'"
            ]
          },
          "metadata": {
            "tags": []
          },
          "execution_count": 117
        }
      ]
    },
    {
      "cell_type": "code",
      "metadata": {
        "id": "nGC58p6f9ar2",
        "colab_type": "code",
        "colab": {
          "base_uri": "https://localhost:8080/",
          "height": 322
        },
        "outputId": "c0a85d2c-b924-40a1-f30b-4f42e6c111f4"
      },
      "source": [
        "triad = (\"deepika\",\"padukone\",\"priyanka\")\n",
        "predict_actor(*triad, model)"
      ],
      "execution_count": null,
      "outputs": [
        {
          "output_type": "stream",
          "text": [
            "/usr/local/lib/python3.6/dist-packages/ipykernel_launcher.py:3: DeprecationWarning: Call to deprecated `__getitem__` (Method will be removed in 4.0.0, use self.wv.__getitem__() instead).\n",
            "  This is separate from the ipykernel package so we can avoid doing imports until\n",
            "/usr/local/lib/python3.6/dist-packages/ipykernel_launcher.py:13: DeprecationWarning: Call to deprecated `__getitem__` (Method will be removed in 4.0.0, use self.wv.__getitem__() instead).\n",
            "  del sys.path[0]\n",
            "/usr/local/lib/python3.6/dist-packages/ipykernel_launcher.py:13: DeprecationWarning: Call to deprecated `__getitem__` (Method will be removed in 4.0.0, use self.wv.__getitem__() instead).\n",
            "  del sys.path[0]\n",
            "/usr/local/lib/python3.6/dist-packages/ipykernel_launcher.py:13: DeprecationWarning: Call to deprecated `__getitem__` (Method will be removed in 4.0.0, use self.wv.__getitem__() instead).\n",
            "  del sys.path[0]\n",
            "/usr/local/lib/python3.6/dist-packages/ipykernel_launcher.py:13: DeprecationWarning: Call to deprecated `__getitem__` (Method will be removed in 4.0.0, use self.wv.__getitem__() instead).\n",
            "  del sys.path[0]\n",
            "/usr/local/lib/python3.6/dist-packages/ipykernel_launcher.py:13: DeprecationWarning: Call to deprecated `__getitem__` (Method will be removed in 4.0.0, use self.wv.__getitem__() instead).\n",
            "  del sys.path[0]\n",
            "/usr/local/lib/python3.6/dist-packages/ipykernel_launcher.py:13: DeprecationWarning: Call to deprecated `__getitem__` (Method will be removed in 4.0.0, use self.wv.__getitem__() instead).\n",
            "  del sys.path[0]\n",
            "/usr/local/lib/python3.6/dist-packages/ipykernel_launcher.py:13: DeprecationWarning: Call to deprecated `__getitem__` (Method will be removed in 4.0.0, use self.wv.__getitem__() instead).\n",
            "  del sys.path[0]\n"
          ],
          "name": "stderr"
        },
        {
          "output_type": "execute_result",
          "data": {
            "text/plain": [
              "'singh'"
            ]
          },
          "metadata": {
            "tags": []
          },
          "execution_count": 118
        }
      ]
    },
    {
      "cell_type": "code",
      "metadata": {
        "id": "dP2M7qDw9ar4",
        "colab_type": "code",
        "colab": {
          "base_uri": "https://localhost:8080/",
          "height": 322
        },
        "outputId": "5072a236-70a9-49b6-ae1e-f816f8ef31aa"
      },
      "source": [
        "triad = (\"priyanka\",\"jonas\",\"nick\")\n",
        "predict_actor(*triad, model)"
      ],
      "execution_count": null,
      "outputs": [
        {
          "output_type": "stream",
          "text": [
            "/usr/local/lib/python3.6/dist-packages/ipykernel_launcher.py:3: DeprecationWarning: Call to deprecated `__getitem__` (Method will be removed in 4.0.0, use self.wv.__getitem__() instead).\n",
            "  This is separate from the ipykernel package so we can avoid doing imports until\n",
            "/usr/local/lib/python3.6/dist-packages/ipykernel_launcher.py:13: DeprecationWarning: Call to deprecated `__getitem__` (Method will be removed in 4.0.0, use self.wv.__getitem__() instead).\n",
            "  del sys.path[0]\n",
            "/usr/local/lib/python3.6/dist-packages/ipykernel_launcher.py:13: DeprecationWarning: Call to deprecated `__getitem__` (Method will be removed in 4.0.0, use self.wv.__getitem__() instead).\n",
            "  del sys.path[0]\n",
            "/usr/local/lib/python3.6/dist-packages/ipykernel_launcher.py:13: DeprecationWarning: Call to deprecated `__getitem__` (Method will be removed in 4.0.0, use self.wv.__getitem__() instead).\n",
            "  del sys.path[0]\n",
            "/usr/local/lib/python3.6/dist-packages/ipykernel_launcher.py:13: DeprecationWarning: Call to deprecated `__getitem__` (Method will be removed in 4.0.0, use self.wv.__getitem__() instead).\n",
            "  del sys.path[0]\n",
            "/usr/local/lib/python3.6/dist-packages/ipykernel_launcher.py:13: DeprecationWarning: Call to deprecated `__getitem__` (Method will be removed in 4.0.0, use self.wv.__getitem__() instead).\n",
            "  del sys.path[0]\n",
            "/usr/local/lib/python3.6/dist-packages/ipykernel_launcher.py:13: DeprecationWarning: Call to deprecated `__getitem__` (Method will be removed in 4.0.0, use self.wv.__getitem__() instead).\n",
            "  del sys.path[0]\n",
            "/usr/local/lib/python3.6/dist-packages/ipykernel_launcher.py:13: DeprecationWarning: Call to deprecated `__getitem__` (Method will be removed in 4.0.0, use self.wv.__getitem__() instead).\n",
            "  del sys.path[0]\n"
          ],
          "name": "stderr"
        },
        {
          "output_type": "execute_result",
          "data": {
            "text/plain": [
              "'virat'"
            ]
          },
          "metadata": {
            "tags": []
          },
          "execution_count": 119
        }
      ]
    },
    {
      "cell_type": "code",
      "metadata": {
        "id": "UVeIkxqTojA5",
        "colab_type": "code",
        "colab": {}
      },
      "source": [
        ""
      ],
      "execution_count": null,
      "outputs": []
    }
  ]
}