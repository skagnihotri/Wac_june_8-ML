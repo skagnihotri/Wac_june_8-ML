{
  "nbformat": 4,
  "nbformat_minor": 0,
  "metadata": {
    "colab": {
      "name": "Linear Regression.ipynb",
      "provenance": []
    },
    "kernelspec": {
      "name": "python3",
      "display_name": "Python 3"
    }
  },
  "cells": [
    {
      "cell_type": "code",
      "metadata": {
        "id": "pa7ZTc-j4Kcx",
        "colab_type": "code",
        "colab": {}
      },
      "source": [
        "import numpy as np\n",
        "import pandas as pd\n",
        "import matplotlib.pyplot as plt"
      ],
      "execution_count": 0,
      "outputs": []
    },
    {
      "cell_type": "code",
      "metadata": {
        "id": "6pa-3jKb45Sm",
        "colab_type": "code",
        "colab": {}
      },
      "source": [
        "X = pd.read_csv(\"/content/Linear_X_Train.csv\")\n",
        "y = pd.read_csv(\"/content/Linear_Y_Train.csv\")"
      ],
      "execution_count": 0,
      "outputs": []
    },
    {
      "cell_type": "code",
      "metadata": {
        "id": "QkAc0IcT5HNT",
        "colab_type": "code",
        "outputId": "110e8a61-3629-4bac-d381-399541364a25",
        "colab": {
          "base_uri": "https://localhost:8080/",
          "height": 34
        }
      },
      "source": [
        "X.shape, y.shape"
      ],
      "execution_count": 0,
      "outputs": [
        {
          "output_type": "execute_result",
          "data": {
            "text/plain": [
              "((3750, 1), (3750, 1))"
            ]
          },
          "metadata": {
            "tags": []
          },
          "execution_count": 119
        }
      ]
    },
    {
      "cell_type": "code",
      "metadata": {
        "id": "nWy-shL15MQB",
        "colab_type": "code",
        "outputId": "f989f11d-988b-447c-e78e-1c2028305029",
        "colab": {
          "base_uri": "https://localhost:8080/",
          "height": 195
        }
      },
      "source": [
        "X.head()"
      ],
      "execution_count": 0,
      "outputs": [
        {
          "output_type": "execute_result",
          "data": {
            "text/html": [
              "<div>\n",
              "<style scoped>\n",
              "    .dataframe tbody tr th:only-of-type {\n",
              "        vertical-align: middle;\n",
              "    }\n",
              "\n",
              "    .dataframe tbody tr th {\n",
              "        vertical-align: top;\n",
              "    }\n",
              "\n",
              "    .dataframe thead th {\n",
              "        text-align: right;\n",
              "    }\n",
              "</style>\n",
              "<table border=\"1\" class=\"dataframe\">\n",
              "  <thead>\n",
              "    <tr style=\"text-align: right;\">\n",
              "      <th></th>\n",
              "      <th>x</th>\n",
              "    </tr>\n",
              "  </thead>\n",
              "  <tbody>\n",
              "    <tr>\n",
              "      <th>0</th>\n",
              "      <td>-0.289307</td>\n",
              "    </tr>\n",
              "    <tr>\n",
              "      <th>1</th>\n",
              "      <td>-0.588810</td>\n",
              "    </tr>\n",
              "    <tr>\n",
              "      <th>2</th>\n",
              "      <td>1.027507</td>\n",
              "    </tr>\n",
              "    <tr>\n",
              "      <th>3</th>\n",
              "      <td>-0.259013</td>\n",
              "    </tr>\n",
              "    <tr>\n",
              "      <th>4</th>\n",
              "      <td>0.782043</td>\n",
              "    </tr>\n",
              "  </tbody>\n",
              "</table>\n",
              "</div>"
            ],
            "text/plain": [
              "          x\n",
              "0 -0.289307\n",
              "1 -0.588810\n",
              "2  1.027507\n",
              "3 -0.259013\n",
              "4  0.782043"
            ]
          },
          "metadata": {
            "tags": []
          },
          "execution_count": 120
        }
      ]
    },
    {
      "cell_type": "code",
      "metadata": {
        "id": "dqcjdNXM5Pyb",
        "colab_type": "code",
        "outputId": "352a8c98-2f2c-49e8-851a-5d3dd11e96a0",
        "colab": {
          "base_uri": "https://localhost:8080/",
          "height": 195
        }
      },
      "source": [
        "y.head()"
      ],
      "execution_count": 0,
      "outputs": [
        {
          "output_type": "execute_result",
          "data": {
            "text/html": [
              "<div>\n",
              "<style scoped>\n",
              "    .dataframe tbody tr th:only-of-type {\n",
              "        vertical-align: middle;\n",
              "    }\n",
              "\n",
              "    .dataframe tbody tr th {\n",
              "        vertical-align: top;\n",
              "    }\n",
              "\n",
              "    .dataframe thead th {\n",
              "        text-align: right;\n",
              "    }\n",
              "</style>\n",
              "<table border=\"1\" class=\"dataframe\">\n",
              "  <thead>\n",
              "    <tr style=\"text-align: right;\">\n",
              "      <th></th>\n",
              "      <th>y</th>\n",
              "    </tr>\n",
              "  </thead>\n",
              "  <tbody>\n",
              "    <tr>\n",
              "      <th>0</th>\n",
              "      <td>-0.091101</td>\n",
              "    </tr>\n",
              "    <tr>\n",
              "      <th>1</th>\n",
              "      <td>-53.467721</td>\n",
              "    </tr>\n",
              "    <tr>\n",
              "      <th>2</th>\n",
              "      <td>75.457009</td>\n",
              "    </tr>\n",
              "    <tr>\n",
              "      <th>3</th>\n",
              "      <td>-12.025286</td>\n",
              "    </tr>\n",
              "    <tr>\n",
              "      <th>4</th>\n",
              "      <td>57.414187</td>\n",
              "    </tr>\n",
              "  </tbody>\n",
              "</table>\n",
              "</div>"
            ],
            "text/plain": [
              "           y\n",
              "0  -0.091101\n",
              "1 -53.467721\n",
              "2  75.457009\n",
              "3 -12.025286\n",
              "4  57.414187"
            ]
          },
          "metadata": {
            "tags": []
          },
          "execution_count": 121
        }
      ]
    },
    {
      "cell_type": "code",
      "metadata": {
        "id": "1Vw8QeRH5Tp3",
        "colab_type": "code",
        "outputId": "a3d9107d-f887-4502-9a69-effaedf46543",
        "colab": {
          "base_uri": "https://localhost:8080/",
          "height": 50
        }
      },
      "source": [
        "y.nunique()"
      ],
      "execution_count": 0,
      "outputs": [
        {
          "output_type": "execute_result",
          "data": {
            "text/plain": [
              "y    3750\n",
              "dtype: int64"
            ]
          },
          "metadata": {
            "tags": []
          },
          "execution_count": 122
        }
      ]
    },
    {
      "cell_type": "code",
      "metadata": {
        "id": "4QBNoyvn5Xi1",
        "colab_type": "code",
        "outputId": "7ad3788d-132f-4bbe-e6e9-b4ee9299b098",
        "colab": {
          "base_uri": "https://localhost:8080/",
          "height": 279
        }
      },
      "source": [
        "plt.scatter(X['x'], y['y'])\n",
        "plt.ylabel(\"Target\")\n",
        "plt.xlabel(\"x values\")\n",
        "plt.show()"
      ],
      "execution_count": 0,
      "outputs": [
        {
          "output_type": "display_data",
          "data": {
            "image/png": "[encoded data removed]",
            "text/plain": [
              "<Figure size 432x288 with 1 Axes>"
            ]
          },
          "metadata": {
            "tags": [],
            "needs_background": "light"
          }
        }
      ]
    },
    {
      "cell_type": "code",
      "metadata": {
        "id": "FU_HZaQ_5kVS",
        "colab_type": "code",
        "outputId": "b98784d2-12af-4616-e284-595a95a6d022",
        "colab": {
          "base_uri": "https://localhost:8080/",
          "height": 34
        }
      },
      "source": [
        "X = X.values\n",
        "y = y.values\n",
        "X.shape, y.shape"
      ],
      "execution_count": 0,
      "outputs": [
        {
          "output_type": "execute_result",
          "data": {
            "text/plain": [
              "((3750, 1), (3750, 1))"
            ]
          },
          "metadata": {
            "tags": []
          },
          "execution_count": 124
        }
      ]
    },
    {
      "cell_type": "code",
      "metadata": {
        "id": "Z_YVg038JIxx",
        "colab_type": "code",
        "colab": {}
      },
      "source": [
        "def run(X, y, iter= 5, learning_rate = 0.001):\n",
        "    # m, c, hist_m, hist_c = gd(X, y, iter, learning_rate)\n",
        "    m, c, cost = gd(X, y, iter, learning_rate)\n",
        "    # return m, c, hist_m, hist_c\n",
        "    return m, c, cost"
      ],
      "execution_count": 0,
      "outputs": []
    },
    {
      "cell_type": "code",
      "metadata": {
        "id": "AAJ9J16RJXFe",
        "colab_type": "code",
        "colab": {}
      },
      "source": [
        "def gd(X, y, iter, learning_rate):\n",
        "    m, c = 0, 0\n",
        "    # hist_m = []\n",
        "    # hist_c = []\n",
        "    cost = []\n",
        "    for i in range(iter):\n",
        "        m, c = step_gd(X, y, m, c, learning_rate)\n",
        "        # hist_m.append(m)\n",
        "        # hist_c.append(c)\n",
        "        total_cost_per_step = np.sum((m*X+c-y)**2)/X.shape[0] \n",
        "        cost.append(total_cost_per_step)\n",
        "    # return m, c, hist_m, hist_c\n",
        "    return m, c, cost"
      ],
      "execution_count": 0,
      "outputs": []
    },
    {
      "cell_type": "code",
      "metadata": {
        "id": "IPbljMtCJZw8",
        "colab_type": "code",
        "colab": {}
      },
      "source": [
        "def step_gd(X, y, m, c, learning_rate):\n",
        "    m_slope, c_slope = 0, 0\n",
        "\n",
        "    N = X.shape[0]\n",
        "    for i in range(N):\n",
        "        x = X[i]\n",
        "        target = y[i]\n",
        "        # derived formulas\n",
        "        m_slope += (2/N)*(m*x+c-target)*x\n",
        "        c_slope += (2/N)*(m*x+c-target)\n",
        "    \n",
        "    new_m = m - learning_rate*m_slope\n",
        "    new_c = c - learning_rate*c_slope\n",
        "    return new_m, new_c"
      ],
      "execution_count": 0,
      "outputs": []
    },
    {
      "cell_type": "code",
      "metadata": {
        "id": "A1Dzhya9Jh5w",
        "colab_type": "code",
        "colab": {}
      },
      "source": [
        "m, c, hist_m, hist_c = run(X, y, iter= 10, learning_rate= 0.06)"
      ],
      "execution_count": 0,
      "outputs": []
    },
    {
      "cell_type": "code",
      "metadata": {
        "id": "-0d4qaP6J4j_",
        "colab_type": "code",
        "outputId": "35ca0bfc-e1ad-4883-a89d-bc51d241e14d",
        "colab": {
          "base_uri": "https://localhost:8080/",
          "height": 34
        }
      },
      "source": [
        "m, c"
      ],
      "execution_count": 0,
      "outputs": [
        {
          "output_type": "execute_result",
          "data": {
            "text/plain": [
              "(array([57.58827068]), array([1.52181133]))"
            ]
          },
          "metadata": {
            "tags": []
          },
          "execution_count": 62
        }
      ]
    },
    {
      "cell_type": "code",
      "metadata": {
        "id": "bXCYXgP2Nyti",
        "colab_type": "code",
        "outputId": "84e1faec-3952-4d96-ccc3-44038b5e3e51",
        "colab": {
          "base_uri": "https://localhost:8080/",
          "height": 185
        }
      },
      "source": [
        "hist_m"
      ],
      "execution_count": 0,
      "outputs": [
        {
          "output_type": "execute_result",
          "data": {
            "text/plain": [
              "[array([9.5096457]),\n",
              " array([17.89488009]),\n",
              " array([25.28884742]),\n",
              " array([31.80890267]),\n",
              " array([37.55848669]),\n",
              " array([42.62877846]),\n",
              " array([47.10015072]),\n",
              " array([51.04345262]),\n",
              " array([54.5211399]),\n",
              " array([57.58827068])]"
            ]
          },
          "metadata": {
            "tags": []
          },
          "execution_count": 63
        }
      ]
    },
    {
      "cell_type": "code",
      "metadata": {
        "id": "UWRpgq-wN1W8",
        "colab_type": "code",
        "outputId": "b56e0bad-4d3a-481d-ff00-61c697ab8ae0",
        "colab": {
          "base_uri": "https://localhost:8080/",
          "height": 185
        }
      },
      "source": [
        "hist_c"
      ],
      "execution_count": 0,
      "outputs": [
        {
          "output_type": "execute_result",
          "data": {
            "text/plain": [
              "[array([0.08206428]),\n",
              " array([0.1974105]),\n",
              " array([0.33694523]),\n",
              " array([0.49327009]),\n",
              " array([0.66040676]),\n",
              " array([0.83356346]),\n",
              " array([1.00893695]),\n",
              " array([1.18354491]),\n",
              " array([1.3550842]),\n",
              " array([1.52181133])]"
            ]
          },
          "metadata": {
            "tags": []
          },
          "execution_count": 64
        }
      ]
    },
    {
      "cell_type": "code",
      "metadata": {
        "id": "6JrHgT3eN6PP",
        "colab_type": "code",
        "outputId": "bad37ec6-37c2-4d63-d9ca-e1e5127bf402",
        "colab": {
          "base_uri": "https://localhost:8080/",
          "height": 353
        }
      },
      "source": [
        "for i in range(len(hist_m)):\n",
        "    print(\"m --> \", end = \" \")\n",
        "    print(hist_m[i][0])\n",
        "    print(\"c --> \", end = \" \")\n",
        "    print(hist_c[i][0])"
      ],
      "execution_count": 0,
      "outputs": [
        {
          "output_type": "stream",
          "text": [
            "m -->  9.509645697268502\n",
            "c -->  0.08206427616187015\n",
            "m -->  17.894880085297608\n",
            "c -->  0.19741050020338585\n",
            "m -->  25.288847422826006\n",
            "c -->  0.3369452289763561\n",
            "m -->  31.808902667152534\n",
            "c -->  0.4932700895760134\n",
            "m -->  37.55848669158524\n",
            "c -->  0.6604067607550739\n",
            "m -->  42.62877845829192\n",
            "c -->  0.8335634613531948\n",
            "m -->  47.100150716108985\n",
            "c -->  1.0089369533125698\n",
            "m -->  51.043452623088235\n",
            "c -->  1.1835449064444017\n",
            "m -->  54.521139902508736\n",
            "c -->  1.3550841965776113\n",
            "m -->  57.588270683433834\n",
            "c -->  1.5218113335934083\n"
          ],
          "name": "stdout"
        }
      ]
    },
    {
      "cell_type": "code",
      "metadata": {
        "id": "CrtB7FkEOnTl",
        "colab_type": "code",
        "colab": {}
      },
      "source": [
        "def plot_lr(m, c, X, y):\n",
        "    pred = m*X + c\n",
        "    # print(pred.shape)\n",
        "    # print(y.shape)\n",
        "    plt.scatter(X, y,c = 'b')\n",
        "    plt.plot(X, pred, c = 'r')\n",
        "    plt.show()"
      ],
      "execution_count": 0,
      "outputs": []
    },
    {
      "cell_type": "code",
      "metadata": {
        "id": "xtQMiGJHN_Jw",
        "colab_type": "code",
        "outputId": "db1764ff-5db0-4c66-989b-4ca876dc76ea",
        "colab": {
          "base_uri": "https://localhost:8080/",
          "height": 1000
        }
      },
      "source": [
        "for i in range(len(hist_m)):\n",
        "    # print(hist_m[i][0])\n",
        "    # print(hist_c[i][0])\n",
        "    plot_lr(hist_m[i][0], hist_c[i][0], X, y)"
      ],
      "execution_count": 0,
      "outputs": [
        {
          "output_type": "display_data",
          "data": {
            "image/png": "[encoded data removed]",
            "text/plain": [
              "<Figure size 432x288 with 1 Axes>"
            ]
          },
          "metadata": {
            "tags": [],
            "needs_background": "light"
          }
        },
        {
          "output_type": "display_data",
          "data": {
            "image/png": "[encoded data removed]",
            "text/plain": [
              "<Figure size 432x288 with 1 Axes>"
            ]
          },
          "metadata": {
            "tags": [],
            "needs_background": "light"
          }
        },
        {
          "output_type": "display_data",
          "data": {
            "image/png": "[encoded data removed]",
            "text/plain": [
              "<Figure size 432x288 with 1 Axes>"
            ]
          },
          "metadata": {
            "tags": [],
            "needs_background": "light"
          }
        },
        {
          "output_type": "display_data",
          "data": {
            "image/png": "[encoded data removed]",
            "text/plain": [
              "<Figure size 432x288 with 1 Axes>"
            ]
          },
          "metadata": {
            "tags": [],
            "needs_background": "light"
          }
        },
        {
          "output_type": "display_data",
          "data": {
            "image/png": "[encoded data removed]",
            "text/plain": [
              "<Figure size 432x288 with 1 Axes>"
            ]
          },
          "metadata": {
            "tags": [],
            "needs_background": "light"
          }
        },
        {
          "output_type": "display_data",
          "data": {
            "image/png": "[encoded data removed]",
            "text/plain": [
              "<Figure size 432x288 with 1 Axes>"
            ]
          },
          "metadata": {
            "tags": [],
            "needs_background": "light"
          }
        },
        {
          "output_type": "display_data",
          "data": {
            "image/png": "[encoded data removed]",
            "text/plain": [
              "<Figure size 432x288 with 1 Axes>"
            ]
          },
          "metadata": {
            "tags": [],
            "needs_background": "light"
          }
        },
        {
          "output_type": "display_data",
          "data": {
            "image/png": "[encoded data removed]",
            "text/plain": [
              "<Figure size 432x288 with 1 Axes>"
            ]
          },
          "metadata": {
            "tags": [],
            "needs_background": "light"
          }
        },
        {
          "output_type": "display_data",
          "data": {
            "image/png": "[encoded data removed]",
            "text/plain": [
              "<Figure size 432x288 with 1 Axes>"
            ]
          },
          "metadata": {
            "tags": [],
            "needs_background": "light"
          }
        },
        {
          "output_type": "display_data",
          "data": {
            "image/png": "[encoded data removed]",
            "text/plain": [
              "<Figure size 432x288 with 1 Axes>"
            ]
          },
          "metadata": {
            "tags": [],
            "needs_background": "light"
          }
        }
      ]
    },
    {
      "cell_type": "code",
      "metadata": {
        "id": "PnQpyPuTO_40",
        "colab_type": "code",
        "colab": {}
      },
      "source": [
        "m, c , cost = run(X, y, iter = 500, learning_rate= 0.01)"
      ],
      "execution_count": 0,
      "outputs": []
    },
    {
      "cell_type": "code",
      "metadata": {
        "id": "Kiyy1h-oRJwT",
        "colab_type": "code",
        "outputId": "3e5c9e1f-1c2f-41fa-b45e-198938fe73e7",
        "colab": {
          "base_uri": "https://localhost:8080/",
          "height": 34
        }
      },
      "source": [
        "m, c"
      ],
      "execution_count": 0,
      "outputs": [
        {
          "output_type": "execute_result",
          "data": {
            "text/plain": [
              "(array([80.53946791]), array([3.72641714]))"
            ]
          },
          "metadata": {
            "tags": []
          },
          "execution_count": 129
        }
      ]
    },
    {
      "cell_type": "code",
      "metadata": {
        "id": "br9VdGGgRMUU",
        "colab_type": "code",
        "colab": {}
      },
      "source": [
        "# equation\n",
        "pred = m*X + c"
      ],
      "execution_count": 0,
      "outputs": []
    },
    {
      "cell_type": "code",
      "metadata": {
        "id": "CaBv6pl0RSFH",
        "colab_type": "code",
        "outputId": "09e6041a-4f70-488e-c9d8-4a4cbcf7e67e",
        "colab": {
          "base_uri": "https://localhost:8080/",
          "height": 265
        }
      },
      "source": [
        "plot_lr(m, c, X, y)"
      ],
      "execution_count": 0,
      "outputs": [
        {
          "output_type": "display_data",
          "data": {
            "image/png": "[encoded data removed]",
            "text/plain": [
              "<Figure size 432x288 with 1 Axes>"
            ]
          },
          "metadata": {
            "tags": [],
            "needs_background": "light"
          }
        }
      ]
    },
    {
      "cell_type": "code",
      "metadata": {
        "id": "4d9YqA36RagB",
        "colab_type": "code",
        "colab": {}
      },
      "source": [
        "cost = np.array(cost)"
      ],
      "execution_count": 0,
      "outputs": []
    },
    {
      "cell_type": "code",
      "metadata": {
        "id": "JQb4yO-ESemt",
        "colab_type": "code",
        "outputId": "c42a4745-9ede-4936-d8df-0f552374fd5f",
        "colab": {
          "base_uri": "https://localhost:8080/",
          "height": 1000
        }
      },
      "source": [
        "cost"
      ],
      "execution_count": 0,
      "outputs": [
        {
          "output_type": "execute_result",
          "data": {
            "text/plain": [
              "array([6327.60210615, 6088.55801376, 5858.83867795, 5638.07983291,\n",
              "       5425.93146325, 5222.05724572, 5026.13401276, 4837.85123721,\n",
              "       4656.91053715, 4483.02520014, 4315.91972624, 4155.32938884,\n",
              "       4000.99981276, 3852.68656893, 3710.15478487, 3573.17877056,\n",
              "       3441.54165889, 3315.03506026, 3193.45873072, 3076.62025306,\n",
              "       2964.33473048, 2856.42449226, 2752.71881088, 2653.05363035,\n",
              "       2557.27130509, 2465.2203491 , 2376.75519495, 2291.7359622 ,\n",
              "       2210.02823486, 2131.50284769, 2056.03568071, 1983.50746192,\n",
              "       1913.80357759, 1846.81389014, 1782.43256302, 1720.55789253,\n",
              "       1661.0921462 , 1603.94140749, 1549.01542662, 1496.22747714,\n",
              "       1445.49421823, 1396.73556234, 1349.874548  , 1304.8372176 ,\n",
              "       1261.55250002, 1219.95209781, 1179.97037875, 1141.54427172,\n",
              "       1104.61316662, 1069.11881818, 1035.00525359, 1002.21868368,\n",
              "        970.70741765,  940.42178105,  911.31403703,  883.33831066,\n",
              "        856.4505162 ,  830.60828724,  805.77090949,  781.89925633,\n",
              "        758.95572678,  736.90418591,  715.70990765,  695.33951972,\n",
              "        675.76095081,  656.9433798 ,  638.85718693,  621.47390692,\n",
              "        604.76618393,  588.7077282 ,  573.27327452,  558.43854217,\n",
              "        544.18019657,  530.47581231,  517.30383771,  504.6435607 ,\n",
              "        492.4750761 ,  480.7792541 ,  469.53771007,  458.73277541,\n",
              "        448.34746971,  438.36547385,  428.77110423,  419.549288  ,\n",
              "        410.6855392 ,  402.16593592,  393.97709828,  386.10616732,\n",
              "        378.54078468,  371.26907305,  364.27961749,  357.56144733,\n",
              "        351.10401893,  344.89719896,  338.93124846,  333.19680746,\n",
              "        327.68488019,  322.38682093,  317.29432034,  312.39939234,\n",
              "        307.69436156,  303.1718512 ,  298.82477141,  294.64630813,\n",
              "        290.6299123 ,  286.7692896 ,  283.05839048,  279.49140065,\n",
              "        276.06273191,  272.76701338,  269.59908296,  266.5539793 ,\n",
              "        263.62693389,  260.81336362,  258.10886354,  255.50919991,\n",
              "        253.01030358,  250.60826351,  248.2993207 ,  246.07986221,\n",
              "        243.9464155 ,  241.89564298,  239.92433674,  238.02941349,\n",
              "        236.20790976,  234.45697719,  232.77387807,  231.15598104,\n",
              "        229.60075696,  228.10577491,  226.6686984 ,  225.28728165,\n",
              "        223.95936613,  222.68287711,  221.45582042,  220.27627934,\n",
              "        219.14241155,  218.05244625,  217.00468141,  215.99748106,\n",
              "        215.02927272,  214.09854496,  213.20384503,  212.34377653,\n",
              "        211.51699727,  210.72221715,  209.95819613,  209.22374228,\n",
              "        208.51770992,  207.83899782,  207.18654749,  206.55934148,\n",
              "        205.95640183,  205.37678849,  204.8195979 ,  204.28396153,\n",
              "        203.76904454,  203.27404446,  202.79818995,  202.34073958,\n",
              "        201.90098065,  201.47822813,  201.07182352,  200.68113387,\n",
              "        200.30555073,  199.9444893 ,  199.59738738,  199.26370462,\n",
              "        198.94292157,  198.63453895,  198.33807679,  198.05307375,\n",
              "        197.77908637,  197.51568835,  197.26246992,  197.01903719,\n",
              "        196.78501152,  196.56002896,  196.34373964,  196.13580725,\n",
              "        195.9359085 ,  195.74373262,  195.55898091,  195.38136618,\n",
              "        195.21061242,  195.04645427,  194.88863666,  194.7369144 ,\n",
              "        194.59105178,  194.45082223,  194.31600795,  194.18639955,\n",
              "        194.06179579,  193.94200317,  193.82683571,  193.71611463,\n",
              "        193.60966805,  193.50733075,  193.40894392,  193.31435488,\n",
              "        193.22341685,  193.13598874,  193.05193493,  192.97112503,\n",
              "        192.89343369,  192.81874043,  192.74692943,  192.67788932,\n",
              "        192.61151306,  192.54769776,  192.48634448,  192.42735815,\n",
              "        192.37064732,  192.31612413,  192.26370407,  192.21330595,\n",
              "        192.16485167,  192.11826617,  192.0734773 ,  192.03041569,\n",
              "        191.98901465,  191.94921008,  191.91094033,  191.87414616,\n",
              "        191.83877062,  191.80475894,  191.77205848,  191.74061864,\n",
              "        191.71039075,  191.68132806,  191.65338559,  191.62652011,\n",
              "        191.60069008,  191.57585553,  191.55197805,  191.52902073,\n",
              "        191.50694806,  191.48572592,  191.46532149,  191.44570323,\n",
              "        191.42684083,  191.40870511,  191.39126806,  191.37450274,\n",
              "        191.35838322,  191.34288462,  191.32798299,  191.31365531,\n",
              "        191.29987944,  191.28663412,  191.27389888,  191.26165406,\n",
              "        191.24988076,  191.2385608 ,  191.22767671,  191.21721167,\n",
              "        191.20714955,  191.19747481,  191.18817252,  191.17922832,\n",
              "        191.17062843,  191.16235956,  191.15440897,  191.14676439,\n",
              "        191.13941403,  191.13234656,  191.12555106,  191.11901708,\n",
              "        191.11273453,  191.10669372,  191.10088536,  191.09530047,\n",
              "        191.08993046,  191.08476704,  191.07980227,  191.07502849,\n",
              "        191.07043835,  191.06602477,  191.06178095,  191.05770037,\n",
              "        191.05377673,  191.050004  ,  191.04637635,  191.04288822,\n",
              "        191.03953422,  191.03630919,  191.03320817,  191.03022638,\n",
              "        191.02735924,  191.02460234,  191.02195142,  191.01940242,\n",
              "        191.0169514 ,  191.0145946 ,  191.0123284 ,  191.01014931,\n",
              "        191.00805397,  191.00603916,  191.00410179,  191.00223887,\n",
              "        191.00044755,  190.99872506,  190.99706876,  190.99547611,\n",
              "        190.99394465,  190.99247204,  190.991056  ,  190.98969437,\n",
              "        190.98838504,  190.98712602,  190.98591536,  190.9847512 ,\n",
              "        190.98363176,  190.98255532,  190.98152023,  190.98052489,\n",
              "        190.97956777,  190.97864742,  190.9777624 ,  190.97691137,\n",
              "        190.97609303,  190.9753061 ,  190.97454939,  190.97382173,\n",
              "        190.97312201,  190.97244916,  190.97180213,  190.97117995,\n",
              "        190.97058164,  190.97000631,  190.96945306,  190.96892104,\n",
              "        190.96840945,  190.96791749,  190.96744441,  190.96698948,\n",
              "        190.96655202,  190.96613134,  190.9657268 ,  190.96533779,\n",
              "        190.9649637 ,  190.96460397,  190.96425804,  190.96392538,\n",
              "        190.96360548,  190.96329786,  190.96300204,  190.96271756,\n",
              "        190.962444  ,  190.96218093,  190.96192795,  190.96168467,\n",
              "        190.96145072,  190.96122575,  190.9610094 ,  190.96080135,\n",
              "        190.96060128,  190.96040888,  190.96022386,  190.96004593,\n",
              "        190.95987483,  190.95971028,  190.95955205,  190.95939988,\n",
              "        190.95925354,  190.95911282,  190.95897748,  190.95884734,\n",
              "        190.95872218,  190.95860183,  190.95848608,  190.95837477,\n",
              "        190.95826773,  190.95816479,  190.95806579,  190.95797059,\n",
              "        190.95787904,  190.95779099,  190.95770632,  190.95762489,\n",
              "        190.95754658,  190.95747128,  190.95739885,  190.95732921,\n",
              "        190.95726223,  190.95719781,  190.95713587,  190.9570763 ,\n",
              "        190.957019  ,  190.95696391,  190.95691092,  190.95685996,\n",
              "        190.95681096,  190.95676383,  190.95671851,  190.95667492,\n",
              "        190.956633  ,  190.95659269,  190.95655392,  190.95651663,\n",
              "        190.95648077,  190.95644629,  190.95641313,  190.95638123,\n",
              "        190.95635056,  190.95632106,  190.95629269,  190.9562654 ,\n",
              "        190.95623916,  190.95621393,  190.95618966,  190.95616632,\n",
              "        190.95614387,  190.95612228,  190.95610152,  190.95608155,\n",
              "        190.95606235,  190.95604388,  190.95602612,  190.95600904,\n",
              "        190.95599261,  190.95597681,  190.95596162,  190.955947  ,\n",
              "        190.95593295,  190.95591943,  190.95590643,  190.95589393,\n",
              "        190.95588191,  190.95587034,  190.95585922,  190.95584852,\n",
              "        190.95583824,  190.95582834,  190.95581883,  190.95580968,\n",
              "        190.95580087,  190.95579241,  190.95578427,  190.95577644,\n",
              "        190.95576891,  190.95576167,  190.9557547 ,  190.955748  ,\n",
              "        190.95574156,  190.95573536,  190.9557294 ,  190.95572367,\n",
              "        190.95571816,  190.95571286,  190.95570776,  190.95570285,\n",
              "        190.95569814,  190.9556936 ,  190.95568924,  190.95568504,\n",
              "        190.955681  ,  190.95567712,  190.95567339,  190.9556698 ,\n",
              "        190.95566634,  190.95566302,  190.95565983,  190.95565676,\n",
              "        190.9556538 ,  190.95565096,  190.95564823,  190.9556456 ,\n",
              "        190.95564307,  190.95564064,  190.9556383 ,  190.95563605,\n",
              "        190.95563388,  190.9556318 ,  190.9556298 ,  190.95562788,\n",
              "        190.95562602,  190.95562424,  190.95562253,  190.95562088,\n",
              "        190.9556193 ,  190.95561777,  190.95561631,  190.9556149 ,\n",
              "        190.95561354,  190.95561224,  190.95561098,  190.95560978,\n",
              "        190.95560862,  190.9556075 ,  190.95560643,  190.9556054 ,\n",
              "        190.9556044 ,  190.95560345,  190.95560253,  190.95560165,\n",
              "        190.9556008 ,  190.95559998,  190.95559919,  190.95559844])"
            ]
          },
          "metadata": {
            "tags": []
          },
          "execution_count": 133
        }
      ]
    },
    {
      "cell_type": "code",
      "metadata": {
        "id": "VJ7_rbErTFWd",
        "colab_type": "code",
        "outputId": "fd502dc8-40aa-4c10-9eff-958979653748",
        "colab": {
          "base_uri": "https://localhost:8080/",
          "height": 279
        }
      },
      "source": [
        "x = list(range(500))\n",
        "plt.plot(x, cost)\n",
        "plt.ylabel(\"Cost\")\n",
        "plt.xlabel(\"No. of Iter.\")\n",
        "plt.show()"
      ],
      "execution_count": 0,
      "outputs": [
        {
          "output_type": "display_data",
          "data": {
            "image/png": "[encoded data removed]",
            "text/plain": [
              "<Figure size 432x288 with 1 Axes>"
            ]
          },
          "metadata": {
            "tags": [],
            "needs_background": "light"
          }
        }
      ]
    },
    {
      "cell_type": "code",
      "metadata": {
        "id": "U3nyKrS3TXnm",
        "colab_type": "code",
        "colab": {}
      },
      "source": [
        ""
      ],
      "execution_count": 0,
      "outputs": []
    }
  ]
}