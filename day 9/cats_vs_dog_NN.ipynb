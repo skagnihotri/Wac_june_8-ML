{
  "nbformat": 4,
  "nbformat_minor": 0,
  "metadata": {
    "colab": {
      "name": "cats vs dog NN.ipynb",
      "provenance": []
    },
    "kernelspec": {
      "name": "python3",
      "display_name": "Python 3"
    },
    "accelerator": "GPU"
  },
  "cells": [
    {
      "cell_type": "markdown",
      "metadata": {
        "id": "QTcM4UQdSZOG",
        "colab_type": "text"
      },
      "source": [
        "## Download dataset"
      ]
    },
    {
      "cell_type": "code",
      "metadata": {
        "id": "iZsujkX9nAsy",
        "colab_type": "code",
        "colab": {}
      },
      "source": [
        "! pip install -q kaggle\n",
        "from google.colab import files\n",
        "files.upload()"
      ],
      "execution_count": null,
      "outputs": []
    },
    {
      "cell_type": "code",
      "metadata": {
        "id": "p1UfMGfGnRm9",
        "colab_type": "code",
        "colab": {}
      },
      "source": [
        "! mkdir ~/.kaggle\n",
        "! cp kaggle.json ~/.kaggle/\n",
        "! chmod 600 ~/.kaggle/kaggle.json"
      ],
      "execution_count": null,
      "outputs": []
    },
    {
      "cell_type": "code",
      "metadata": {
        "id": "wkGGsyIBnc-y",
        "colab_type": "code",
        "colab": {
          "base_uri": "https://localhost:8080/",
          "height": 67
        },
        "outputId": "28510473-7704-47fe-be56-5fd2606faa74"
      },
      "source": [
        "!kaggle datasets download -d ayushsharma2k/dogcat-classificationcnn"
      ],
      "execution_count": null,
      "outputs": [
        {
          "output_type": "stream",
          "text": [
            "Downloading dogcat-classificationcnn.zip to /content\n",
            " 97% 211M/217M [00:05<00:00, 33.9MB/s]\n",
            "100% 217M/217M [00:05<00:00, 38.8MB/s]\n"
          ],
          "name": "stdout"
        }
      ]
    },
    {
      "cell_type": "code",
      "metadata": {
        "id": "9KBLe8a6nnOE",
        "colab_type": "code",
        "colab": {}
      },
      "source": [
        "!unzip '/content/dogcat-classificationcnn.zip'"
      ],
      "execution_count": null,
      "outputs": []
    },
    {
      "cell_type": "markdown",
      "metadata": {
        "id": "FW721w1VS6kq",
        "colab_type": "text"
      },
      "source": [
        "## Start"
      ]
    },
    {
      "cell_type": "code",
      "metadata": {
        "id": "DYMQb298SyLl",
        "colab_type": "code",
        "colab": {}
      },
      "source": [
        "# libraries\n",
        "import numpy as np\n",
        "import matplotlib.pyplot as plt\n",
        "import os\n",
        "from keras.preprocessing import image\n",
        "from tqdm import tqdm"
      ],
      "execution_count": null,
      "outputs": []
    },
    {
      "cell_type": "markdown",
      "metadata": {
        "id": "4HBefQp5aUmd",
        "colab_type": "text"
      },
      "source": [
        "### Data preprocessing"
      ]
    },
    {
      "cell_type": "code",
      "metadata": {
        "id": "ZGYJxf09U_nZ",
        "colab_type": "code",
        "colab": {}
      },
      "source": [
        "train_x = []\n",
        "train_y = []\n",
        "test_x = []\n",
        "test_y = []"
      ],
      "execution_count": null,
      "outputs": []
    },
    {
      "cell_type": "code",
      "metadata": {
        "id": "vhrTc16yU-1h",
        "colab_type": "code",
        "colab": {}
      },
      "source": [
        "def data_preprocessing(img_path, img_class, list_x, list_y):\n",
        "    img = image.load_img(img_path, target_size= (200, 200))\n",
        "    img = image.img_to_array(img)\n",
        "    img = img/255.0\n",
        "\n",
        "    list_x.append(img)\n",
        "    list_y.append(img_class)"
      ],
      "execution_count": null,
      "outputs": []
    },
    {
      "cell_type": "code",
      "metadata": {
        "id": "6nu5ExuaTZgT",
        "colab_type": "code",
        "colab": {
          "base_uri": "https://localhost:8080/",
          "height": 34
        },
        "outputId": "63821390-9a34-49be-f72a-6a6f7a844b36"
      },
      "source": [
        "train_path = '/content/dataset/training_set/'\n",
        "# print(train_path)\n",
        "\n",
        "for folder in tqdm(os.listdir(train_path)):\n",
        "    for img in os.listdir(train_path+folder):\n",
        "        img_path = train_path+folder+'/'+img\n",
        "        img_class = folder\n",
        "        \n",
        "        data_preprocessing(img_path, img_class, train_x, train_y)"
      ],
      "execution_count": null,
      "outputs": [
        {
          "output_type": "stream",
          "text": [
            "100%|██████████| 2/2 [00:22<00:00, 11.29s/it]\n"
          ],
          "name": "stderr"
        }
      ]
    },
    {
      "cell_type": "code",
      "metadata": {
        "id": "iHCvOVELTrJ5",
        "colab_type": "code",
        "colab": {
          "base_uri": "https://localhost:8080/",
          "height": 34
        },
        "outputId": "b55e627d-883a-4c8a-8365-34a98431dc8a"
      },
      "source": [
        "train_x = np.array(train_x)\n",
        "train_y = np.array(train_y)\n",
        "\n",
        "train_x.shape, train_y.shape"
      ],
      "execution_count": null,
      "outputs": [
        {
          "output_type": "execute_result",
          "data": {
            "text/plain": [
              "((8000, 200, 200, 3), (8000,))"
            ]
          },
          "metadata": {
            "tags": []
          },
          "execution_count": 24
        }
      ]
    },
    {
      "cell_type": "code",
      "metadata": {
        "id": "Tfry8LILZVhP",
        "colab_type": "code",
        "colab": {
          "base_uri": "https://localhost:8080/",
          "height": 34
        },
        "outputId": "b19350a9-15b0-47a5-bb6e-bdbe14609e95"
      },
      "source": [
        "train_y[:5]"
      ],
      "execution_count": null,
      "outputs": [
        {
          "output_type": "execute_result",
          "data": {
            "text/plain": [
              "array(['dogs', 'dogs', 'dogs', 'dogs', 'dogs'], dtype='<U4')"
            ]
          },
          "metadata": {
            "tags": []
          },
          "execution_count": 25
        }
      ]
    },
    {
      "cell_type": "code",
      "metadata": {
        "id": "jnvGVluMZrS2",
        "colab_type": "code",
        "colab": {
          "base_uri": "https://localhost:8080/",
          "height": 34
        },
        "outputId": "f3b3b165-f557-4322-8d45-6c194e1c487f"
      },
      "source": [
        "train_y[-5:]"
      ],
      "execution_count": null,
      "outputs": [
        {
          "output_type": "execute_result",
          "data": {
            "text/plain": [
              "array(['cats', 'cats', 'cats', 'cats', 'cats'], dtype='<U4')"
            ]
          },
          "metadata": {
            "tags": []
          },
          "execution_count": 26
        }
      ]
    },
    {
      "cell_type": "code",
      "metadata": {
        "id": "6J3Agw8yZvPU",
        "colab_type": "code",
        "colab": {
          "base_uri": "https://localhost:8080/",
          "height": 34
        },
        "outputId": "9fab93ef-83de-46a6-8b43-7aa743b6a249"
      },
      "source": [
        "train_path = '/content/dataset/test_set/'\n",
        "# print(train_path)\n",
        "\n",
        "for folder in tqdm(os.listdir(train_path)):\n",
        "    for img in os.listdir(train_path+folder):\n",
        "        img_path = train_path+folder+'/'+img\n",
        "        img_class = folder\n",
        "        \n",
        "        data_preprocessing(img_path, img_class, test_x, test_y)"
      ],
      "execution_count": null,
      "outputs": [
        {
          "output_type": "stream",
          "text": [
            "100%|██████████| 2/2 [00:17<00:00,  8.83s/it]\n"
          ],
          "name": "stderr"
        }
      ]
    },
    {
      "cell_type": "code",
      "metadata": {
        "id": "BbSVUEUGZ-kY",
        "colab_type": "code",
        "colab": {
          "base_uri": "https://localhost:8080/",
          "height": 34
        },
        "outputId": "cf86374e-26db-40db-fdec-9cef462ab9a8"
      },
      "source": [
        "test_x = np.array(test_x)\n",
        "test_y = np.array(test_y)\n",
        "\n",
        "test_x.shape, test_y.shape"
      ],
      "execution_count": null,
      "outputs": [
        {
          "output_type": "execute_result",
          "data": {
            "text/plain": [
              "((2000, 200, 200, 3), (2000,))"
            ]
          },
          "metadata": {
            "tags": []
          },
          "execution_count": 28
        }
      ]
    },
    {
      "cell_type": "code",
      "metadata": {
        "id": "tzXrUDV6aPYQ",
        "colab_type": "code",
        "colab": {}
      },
      "source": [
        "# label encode_y\n",
        "from sklearn.preprocessing import LabelEncoder\n",
        "le_y = LabelEncoder()\n",
        "\n",
        "train_y = le_y.fit_transform(train_y)"
      ],
      "execution_count": null,
      "outputs": []
    },
    {
      "cell_type": "code",
      "metadata": {
        "id": "K7h_Yhm8ap3j",
        "colab_type": "code",
        "colab": {}
      },
      "source": [
        "test_y = le_y.transform(test_y)"
      ],
      "execution_count": null,
      "outputs": []
    },
    {
      "cell_type": "code",
      "metadata": {
        "id": "_PhRjvV4azMJ",
        "colab_type": "code",
        "colab": {
          "base_uri": "https://localhost:8080/",
          "height": 34
        },
        "outputId": "a5f58234-481d-4167-9e90-21ef904b9e59"
      },
      "source": [
        "# shuffling data\n",
        "from sklearn.utils import shuffle\n",
        "\n",
        "train_x, train_y = shuffle(train_x, train_y)\n",
        "train_x.shape, train_y.shape"
      ],
      "execution_count": null,
      "outputs": [
        {
          "output_type": "execute_result",
          "data": {
            "text/plain": [
              "((8000, 200, 200, 3), (8000,))"
            ]
          },
          "metadata": {
            "tags": []
          },
          "execution_count": 34
        }
      ]
    },
    {
      "cell_type": "code",
      "metadata": {
        "id": "O8tEkNIobgM2",
        "colab_type": "code",
        "colab": {
          "base_uri": "https://localhost:8080/",
          "height": 34
        },
        "outputId": "05008aef-00a8-4fa5-8f7a-5c166c15e136"
      },
      "source": [
        "train_y[:10]"
      ],
      "execution_count": null,
      "outputs": [
        {
          "output_type": "execute_result",
          "data": {
            "text/plain": [
              "array([1, 1, 0, 1, 1, 1, 0, 0, 1, 0])"
            ]
          },
          "metadata": {
            "tags": []
          },
          "execution_count": 35
        }
      ]
    },
    {
      "cell_type": "code",
      "metadata": {
        "id": "LPjUlqjTblAK",
        "colab_type": "code",
        "colab": {
          "base_uri": "https://localhost:8080/",
          "height": 34
        },
        "outputId": "9f9a3b62-7e30-4135-846f-b359dbc7bc35"
      },
      "source": [
        "test_x, test_y = shuffle(test_x, test_y)\n",
        "test_x.shape, test_y.shape"
      ],
      "execution_count": null,
      "outputs": [
        {
          "output_type": "execute_result",
          "data": {
            "text/plain": [
              "((2000, 200, 200, 3), (2000,))"
            ]
          },
          "metadata": {
            "tags": []
          },
          "execution_count": 36
        }
      ]
    },
    {
      "cell_type": "markdown",
      "metadata": {
        "id": "9WNS2JwJb0PR",
        "colab_type": "text"
      },
      "source": [
        "## CONV NN"
      ]
    },
    {
      "cell_type": "code",
      "metadata": {
        "id": "2gYR_gC4byOb",
        "colab_type": "code",
        "colab": {}
      },
      "source": [
        "# libraries\n",
        "from keras.models import Sequential\n",
        "from keras.layers import Dense, Dropout, Conv2D, MaxPool2D, Flatten"
      ],
      "execution_count": null,
      "outputs": []
    },
    {
      "cell_type": "code",
      "metadata": {
        "id": "_PanwP49cHvX",
        "colab_type": "code",
        "colab": {}
      },
      "source": [
        "# intialise\n",
        "clf = Sequential()"
      ],
      "execution_count": null,
      "outputs": []
    },
    {
      "cell_type": "code",
      "metadata": {
        "id": "KpirpqodcNSD",
        "colab_type": "code",
        "colab": {}
      },
      "source": [
        "input_shape = (200, 200, 3)\n",
        "\n",
        "# hidden layers\n",
        "clf.add(Conv2D(64, (3,3), activation= 'relu', input_shape = input_shape))\n",
        "clf.add(Conv2D(32, (3,3), activation= 'relu'))\n",
        "clf.add(MaxPool2D(pool_size= (2,2)))\n",
        "clf.add(Dropout(rate= 0.3))\n",
        "\n",
        "clf.add(Conv2D(32, (3,3), activation= 'relu'))\n",
        "clf.add(Conv2D(16, (3,3), activation= 'relu'))\n",
        "clf.add(MaxPool2D(pool_size= (2,2)))\n",
        "clf.add(Dropout(rate= 0.3))\n",
        "\n",
        "# flatten layer\n",
        "clf.add(Flatten())\n",
        "\n",
        "# Fully connected layer (FC)\n",
        "clf.add(Dense(128, activation= 'relu'))\n",
        "\n",
        "# output layer\n",
        "clf.add(Dense(1, activation= 'sigmoid'))"
      ],
      "execution_count": null,
      "outputs": []
    },
    {
      "cell_type": "code",
      "metadata": {
        "id": "UHEVqw2Cdp18",
        "colab_type": "code",
        "colab": {
          "base_uri": "https://localhost:8080/",
          "height": 521
        },
        "outputId": "fdb0ffc9-d017-4882-b43d-808e0fd37d51"
      },
      "source": [
        "clf.summary()"
      ],
      "execution_count": null,
      "outputs": [
        {
          "output_type": "stream",
          "text": [
            "Model: \"sequential_7\"\n",
            "_________________________________________________________________\n",
            "Layer (type)                 Output Shape              Param #   \n",
            "=================================================================\n",
            "conv2d_20 (Conv2D)           (None, 198, 198, 64)      1792      \n",
            "_________________________________________________________________\n",
            "conv2d_21 (Conv2D)           (None, 196, 196, 32)      18464     \n",
            "_________________________________________________________________\n",
            "max_pooling2d_13 (MaxPooling (None, 98, 98, 32)        0         \n",
            "_________________________________________________________________\n",
            "dropout_13 (Dropout)         (None, 98, 98, 32)        0         \n",
            "_________________________________________________________________\n",
            "conv2d_22 (Conv2D)           (None, 96, 96, 32)        9248      \n",
            "_________________________________________________________________\n",
            "conv2d_23 (Conv2D)           (None, 94, 94, 16)        4624      \n",
            "_________________________________________________________________\n",
            "max_pooling2d_14 (MaxPooling (None, 47, 47, 16)        0         \n",
            "_________________________________________________________________\n",
            "dropout_14 (Dropout)         (None, 47, 47, 16)        0         \n",
            "_________________________________________________________________\n",
            "flatten_7 (Flatten)          (None, 35344)             0         \n",
            "_________________________________________________________________\n",
            "dense_11 (Dense)             (None, 128)               4524160   \n",
            "_________________________________________________________________\n",
            "dense_12 (Dense)             (None, 1)                 129       \n",
            "=================================================================\n",
            "Total params: 4,558,417\n",
            "Trainable params: 4,558,417\n",
            "Non-trainable params: 0\n",
            "_________________________________________________________________\n"
          ],
          "name": "stdout"
        }
      ]
    },
    {
      "cell_type": "code",
      "metadata": {
        "id": "R8a34q0HevC0",
        "colab_type": "code",
        "colab": {}
      },
      "source": [
        "# compilling model\n",
        "clf.compile(optimizer= 'adam', loss = 'binary_crossentropy', metrics= ['accuracy'])"
      ],
      "execution_count": null,
      "outputs": []
    },
    {
      "cell_type": "code",
      "metadata": {
        "id": "FOsNpbFgeHIX",
        "colab_type": "code",
        "colab": {
          "base_uri": "https://localhost:8080/",
          "height": 722
        },
        "outputId": "8b02f4e4-ddf7-454d-dc12-c3613690dac5"
      },
      "source": [
        "clf.fit(train_x, train_y, batch_size= 300, epochs= 20, validation_data= (test_x, test_y))"
      ],
      "execution_count": null,
      "outputs": [
        {
          "output_type": "stream",
          "text": [
            "Train on 8000 samples, validate on 2000 samples\n",
            "Epoch 1/20\n",
            "8000/8000 [==============================] - 18s 2ms/step - loss: 0.8413 - accuracy: 0.5164 - val_loss: 0.6906 - val_accuracy: 0.5495\n",
            "Epoch 2/20\n",
            "8000/8000 [==============================] - 14s 2ms/step - loss: 0.6837 - accuracy: 0.5577 - val_loss: 0.6775 - val_accuracy: 0.5810\n",
            "Epoch 3/20\n",
            "8000/8000 [==============================] - 14s 2ms/step - loss: 0.6695 - accuracy: 0.5894 - val_loss: 0.6679 - val_accuracy: 0.6020\n",
            "Epoch 4/20\n",
            "8000/8000 [==============================] - 14s 2ms/step - loss: 0.6649 - accuracy: 0.6028 - val_loss: 0.6697 - val_accuracy: 0.6010\n",
            "Epoch 5/20\n",
            "8000/8000 [==============================] - 14s 2ms/step - loss: 0.6465 - accuracy: 0.6219 - val_loss: 0.6540 - val_accuracy: 0.6090\n",
            "Epoch 6/20\n",
            "8000/8000 [==============================] - 14s 2ms/step - loss: 0.6237 - accuracy: 0.6469 - val_loss: 0.6262 - val_accuracy: 0.6550\n",
            "Epoch 7/20\n",
            "8000/8000 [==============================] - 14s 2ms/step - loss: 0.6081 - accuracy: 0.6564 - val_loss: 0.6166 - val_accuracy: 0.6550\n",
            "Epoch 8/20\n",
            "8000/8000 [==============================] - 14s 2ms/step - loss: 0.5789 - accuracy: 0.6904 - val_loss: 0.6115 - val_accuracy: 0.6560\n",
            "Epoch 9/20\n",
            "8000/8000 [==============================] - 14s 2ms/step - loss: 0.5868 - accuracy: 0.6814 - val_loss: 0.5991 - val_accuracy: 0.6725\n",
            "Epoch 10/20\n",
            "8000/8000 [==============================] - 14s 2ms/step - loss: 0.5379 - accuracy: 0.7215 - val_loss: 0.5710 - val_accuracy: 0.7080\n",
            "Epoch 11/20\n",
            "8000/8000 [==============================] - 14s 2ms/step - loss: 0.5210 - accuracy: 0.7366 - val_loss: 0.5864 - val_accuracy: 0.6940\n",
            "Epoch 12/20\n",
            "8000/8000 [==============================] - 14s 2ms/step - loss: 0.4857 - accuracy: 0.7640 - val_loss: 0.5689 - val_accuracy: 0.7180\n",
            "Epoch 13/20\n",
            "8000/8000 [==============================] - 14s 2ms/step - loss: 0.4478 - accuracy: 0.7875 - val_loss: 0.5551 - val_accuracy: 0.7385\n",
            "Epoch 14/20\n",
            "8000/8000 [==============================] - 14s 2ms/step - loss: 0.4254 - accuracy: 0.8015 - val_loss: 0.5627 - val_accuracy: 0.7170\n",
            "Epoch 15/20\n",
            "8000/8000 [==============================] - 14s 2ms/step - loss: 0.3609 - accuracy: 0.8395 - val_loss: 0.5673 - val_accuracy: 0.7240\n",
            "Epoch 16/20\n",
            "8000/8000 [==============================] - 14s 2ms/step - loss: 0.3110 - accuracy: 0.8655 - val_loss: 0.5850 - val_accuracy: 0.7370\n",
            "Epoch 17/20\n",
            "8000/8000 [==============================] - 14s 2ms/step - loss: 0.2682 - accuracy: 0.8866 - val_loss: 0.6241 - val_accuracy: 0.7260\n",
            "Epoch 18/20\n",
            "8000/8000 [==============================] - 14s 2ms/step - loss: 0.2409 - accuracy: 0.8991 - val_loss: 0.7578 - val_accuracy: 0.7300\n",
            "Epoch 19/20\n",
            "8000/8000 [==============================] - 14s 2ms/step - loss: 0.2107 - accuracy: 0.9093 - val_loss: 0.7373 - val_accuracy: 0.7295\n",
            "Epoch 20/20\n",
            "8000/8000 [==============================] - 14s 2ms/step - loss: 0.1821 - accuracy: 0.9280 - val_loss: 0.7452 - val_accuracy: 0.7300\n"
          ],
          "name": "stdout"
        },
        {
          "output_type": "execute_result",
          "data": {
            "text/plain": [
              "<keras.callbacks.callbacks.History at 0x7f9ccfc9d208>"
            ]
          },
          "metadata": {
            "tags": []
          },
          "execution_count": 68
        }
      ]
    },
    {
      "cell_type": "code",
      "metadata": {
        "id": "3MvEUvZTfEKN",
        "colab_type": "code",
        "colab": {
          "base_uri": "https://localhost:8080/",
          "height": 265
        },
        "outputId": "887f1ed8-406d-450e-e0e4-ad0ad7333dfd"
      },
      "source": [
        "import pandas as pd\n",
        "\n",
        "pd.DataFrame(clf.history.history).plot()\n",
        "plt.show()"
      ],
      "execution_count": null,
      "outputs": [
        {
          "output_type": "display_data",
          "data": {
            "image/png": "[encoded data removed]",
            "text/plain": [
              "<Figure size 432x288 with 1 Axes>"
            ]
          },
          "metadata": {
            "tags": [],
            "needs_background": "light"
          }
        }
      ]
    },
    {
      "cell_type": "code",
      "metadata": {
        "id": "r_cgRfoOh5ib",
        "colab_type": "code",
        "colab": {}
      },
      "source": [
        ""
      ],
      "execution_count": null,
      "outputs": []
    }
  ]
}